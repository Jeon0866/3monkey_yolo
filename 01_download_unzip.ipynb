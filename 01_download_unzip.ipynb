{
 "cells": [
  {
   "cell_type": "code",
   "execution_count": 66,
   "id": "a829fe66-37e8-4a83-afba-1520c3473b87",
   "metadata": {
    "tags": []
   },
   "outputs": [
    {
     "name": "stdout",
     "output_type": "stream",
     "text": [
      "gs://sessac-project-05-bucket-01/Train라벨_1.수도권영동선.zip:\n",
      "    Creation time:          Tue, 21 Nov 2023 01:32:23 GMT\n",
      "    Update time:            Tue, 21 Nov 2023 01:32:23 GMT\n",
      "    Storage class:          STANDARD\n",
      "    Content-Length:         16917366\n",
      "    Content-Type:           application/x-zip-compressed\n",
      "    Hash (crc32c):          Chvo/Q==\n",
      "    Hash (md5):             bLFYTuBMH/Ra9sQ5WgRvbQ==\n",
      "    ETag:                   CMmct5j504IDEAE=\n",
      "    Generation:             1700530343497289\n",
      "    Metageneration:         1\n",
      "    ACL:                    []\n",
      "gs://sessac-project-05-bucket-01/Train원천_1-1수도권영동선.zip:\n",
      "    Creation time:          Tue, 21 Nov 2023 01:32:45 GMT\n",
      "    Update time:            Tue, 21 Nov 2023 01:32:45 GMT\n",
      "    Storage class:          STANDARD\n",
      "    Content-Length:         32038682876\n",
      "    Content-Type:           application/x-zip-compressed\n",
      "    Hash (crc32c):          +7QlIQ==\n",
      "    Hash (md5):             n4RNhhW+17s9bqkShUyKPA==\n",
      "    ETag:                   CPW/4KL504IDEAE=\n",
      "    Generation:             1700530365145077\n",
      "    Metageneration:         1\n",
      "    ACL:                    []\n",
      "gs://sessac-project-05-bucket-01/Train원천_1-2수도권영동선.zip:\n",
      "    Creation time:          Tue, 21 Nov 2023 01:33:08 GMT\n",
      "    Update time:            Tue, 21 Nov 2023 01:33:08 GMT\n",
      "    Storage class:          STANDARD\n",
      "    Content-Length:         18051609430\n",
      "    Content-Type:           application/x-zip-compressed\n",
      "    Hash (crc32c):          vG/BvA==\n",
      "    Hash (md5):             uUwYYI2TYS+N6DpMfr+GGg==\n",
      "    ETag:                   CPrq4a3504IDEAE=\n",
      "    Generation:             1700530388235642\n",
      "    Metageneration:         1\n",
      "    ACL:                    []\n",
      "gs://sessac-project-05-bucket-01/Train원천_1-3수도권영동선.zip:\n",
      "    Creation time:          Tue, 21 Nov 2023 01:33:39 GMT\n",
      "    Update time:            Tue, 21 Nov 2023 01:33:39 GMT\n",
      "    Storage class:          STANDARD\n",
      "    Content-Length:         16293632027\n",
      "    Content-Type:           application/x-zip-compressed\n",
      "    Hash (crc32c):          vCgs+Q==\n",
      "    Hash (md5):             gSgCnEcBJQ9tGr7zherqEQ==\n",
      "    ETag:                   CJamybz504IDEAE=\n",
      "    Generation:             1700530419290902\n",
      "    Metageneration:         1\n",
      "    ACL:                    []\n",
      "gs://sessac-project-05-bucket-01/Val라벨_1수도권영동선.zip:\n",
      "    Creation time:          Tue, 21 Nov 2023 01:33:55 GMT\n",
      "    Update time:            Tue, 21 Nov 2023 01:33:55 GMT\n",
      "    Storage class:          STANDARD\n",
      "    Content-Length:         2660925\n",
      "    Content-Type:           application/x-zip-compressed\n",
      "    Hash (crc32c):          94Y5wQ==\n",
      "    Hash (md5):             IM6dU5TD7lWF8Jtn5SF/3g==\n",
      "    ETag:                   CMnVrMT504IDEAE=\n",
      "    Generation:             1700530435599049\n",
      "    Metageneration:         1\n",
      "    ACL:                    []\n",
      "gs://sessac-project-05-bucket-01/Val원천_1수도권영동선.zip:\n",
      "    Creation time:          Tue, 21 Nov 2023 01:34:09 GMT\n",
      "    Update time:            Tue, 21 Nov 2023 01:34:09 GMT\n",
      "    Storage class:          STANDARD\n",
      "    Content-Length:         9656069195\n",
      "    Content-Type:           application/x-zip-compressed\n",
      "    Hash (crc32c):          T0/5Qw==\n",
      "    Hash (md5):             6UqE8cHcrI4ohrX9qYTQ0A==\n",
      "    ETag:                   CN+X5sr504IDEAE=\n",
      "    Generation:             1700530449124319\n",
      "    Metageneration:         1\n",
      "    ACL:                    []\n",
      "gs://sessac-project-05-bucket-01/val_drop_file.ipynb:\n",
      "    Creation time:          Tue, 21 Nov 2023 01:30:21 GMT\n",
      "    Update time:            Tue, 21 Nov 2023 01:30:21 GMT\n",
      "    Storage class:          STANDARD\n",
      "    Content-Length:         27703\n",
      "    Content-Type:           application/octet-stream\n",
      "    Hash (crc32c):          +bjZPg==\n",
      "    Hash (md5):             HDmD1CTnT7gHAo+MniviBA==\n",
      "    ETag:                   CJqtp97404IDEAE=\n",
      "    Generation:             1700530221602458\n",
      "    Metageneration:         1\n",
      "    ACL:                    []\n",
      "TOTAL: 7 objects, 76059599522 bytes (70.84 GiB)\n"
     ]
    }
   ],
   "source": [
    "!gsutil ls -L gs://sessac-project-05-bucket-01/"
   ]
  },
  {
   "cell_type": "code",
   "execution_count": 4,
   "id": "ed61f675-e403-4154-8dd5-e52d9c29887b",
   "metadata": {
    "tags": []
   },
   "outputs": [],
   "source": [
    "import zipfile\n",
    "import concurrent.futures\n",
    "import os\n",
    "from tqdm import tqdm\n",
    "\n",
    "def unzip(zip_file):\n",
    "    folder_name = os.path.splitext(zip_file)[0]\n",
    "    with zipfile.ZipFile(zip_file, 'r') as zf:\n",
    "        os.makedirs(folder_name, exist_ok=True)\n",
    "        file_list = zf.namelist()\n",
    "        with tqdm(total=len(file_list), desc=f'{zip_file} 압축 해제 중') as pbar:\n",
    "            for file in file_list:\n",
    "                zf.extract(file, folder_name)\n",
    "                pbar.update(1)"
   ]
  },
  {
   "cell_type": "code",
   "execution_count": 6,
   "id": "768a99d8-268a-4f9b-8e80-2eeb6d8d0c32",
   "metadata": {
    "tags": []
   },
   "outputs": [
    {
     "name": "stdout",
     "output_type": "stream",
     "text": [
      "Copying gs://sessac-project-05-bucket-01/Train라벨_1.수도권영동선.zip...\n",
      "/ [1/1 files][ 16.1 MiB/ 16.1 MiB] 100% Done                                    \n",
      "Operation completed over 1 objects/16.1 MiB.                                     \n"
     ]
    },
    {
     "name": "stderr",
     "output_type": "stream",
     "text": [
      "Train라벨_1.수도권영동선.zip 압축 해제 중: 100%|██████████| 405/405 [00:00<00:00, 865.11it/s]\n"
     ]
    }
   ],
   "source": [
    "!gsutil -m cp gs://sessac-project-05-bucket-01/Train라벨_1.수도권영동선.zip Train라벨_1.수도권영동선.zip\n",
    "\n",
    "output_folder = '/home/jupyter/dataset/train/xml/'\n",
    "\n",
    "zip_file_paths = ['Train라벨_1.수도권영동선.zip']\n",
    "\n",
    "\n",
    "with concurrent.futures.ProcessPoolExecutor() as executor:\n",
    "    executor.map(unzip, zip_file_paths, [output_folder] * len(zip_file_paths))\n",
    "\n",
    "for zip_file in zip_file_paths:\n",
    "    os.remove(zip_file)"
   ]
  },
  {
   "cell_type": "code",
   "execution_count": null,
   "id": "bb54a24b-b68e-4288-898c-9cd2d9069e5a",
   "metadata": {
    "tags": []
   },
   "outputs": [
    {
     "name": "stdout",
     "output_type": "stream",
     "text": [
      "Copying gs://sessac-project-05-bucket-01/Train원천_1-1수도권영동선.zip...\n",
      "| [1/1 files][ 29.8 GiB/ 29.8 GiB] 100% Done  47.9 MiB/s ETA 00:00:00           \n",
      "Operation completed over 1 objects/29.8 GiB.                                     \n"
     ]
    },
    {
     "name": "stderr",
     "output_type": "stream",
     "text": [
      "Train원천_1-1수도권영동선.zip 압축 해제 중:  56%|█████▌    | 13556/24269 [17:28<1:25:10,  2.10it/s]"
     ]
    }
   ],
   "source": [
    "!gsutil -m cp gs://sessac-project-05-bucket-01/Train원천_1-1수도권영동선.zip Train원천_1-1수도권영동선.zip\n",
    "\n",
    "output_folder = '/home/jupyter/dataset/train/images/'\n",
    "\n",
    "zip_file_paths = ['Train원천_1-1수도권영동선.zip']\n",
    "\n",
    "with concurrent.futures.ProcessPoolExecutor() as executor:\n",
    "    executor.map(unzip, zip_file_paths, [output_folder] * len(zip_file_paths))\n",
    "\n",
    "for zip_file in zip_file_paths:\n",
    "    os.remove(zip_file)"
   ]
  },
  {
   "cell_type": "code",
   "execution_count": null,
   "id": "3230c8fd-3c64-4953-934b-a37db02ce091",
   "metadata": {
    "tags": []
   },
   "outputs": [],
   "source": [
    "!gsutil -m cp gs://sessac-project-05-bucket-01/Train원천_1-2수도권영동선.zip Train원천_1-2수도권영동선.zip\n",
    "\n",
    "output_folder = '/home/jupyter/dataset/train/images/'\n",
    "\n",
    "zip_file_paths = ['Train원천_1-2수도권영동선.zip']\n",
    "\n",
    "with concurrent.futures.ProcessPoolExecutor() as executor:\n",
    "    executor.map(unzip, zip_file_paths, [output_folder] * len(zip_file_paths))\n",
    "\n",
    "for zip_file in zip_file_paths:\n",
    "    os.remove(zip_file)"
   ]
  },
  {
   "cell_type": "code",
   "execution_count": null,
   "id": "c763ecaa-64b1-43e1-a25c-0a55609ae84e",
   "metadata": {
    "tags": []
   },
   "outputs": [],
   "source": [
    "!gsutil -m cp gs://sessac-project-05-bucket-01/Train원천_1-3수도권영동선.zip Train원천_1-3수도권영동선.zip\n",
    "\n",
    "output_folder = '/home/jupyter/dataset/train/images/'\n",
    "\n",
    "zip_file_paths = ['Train원천_1-3수도권영동선.zip']\n",
    "\n",
    "with concurrent.futures.ProcessPoolExecutor() as executor:\n",
    "    executor.map(unzip, zip_file_paths, [output_folder] * len(zip_file_paths))\n",
    "\n",
    "for zip_file in zip_file_paths:\n",
    "    os.remove(zip_file)"
   ]
  },
  {
   "cell_type": "code",
   "execution_count": null,
   "id": "eee114e8-e0e1-405c-946e-09ed778827a1",
   "metadata": {
    "tags": []
   },
   "outputs": [],
   "source": [
    "!gsutil -m cp gs://sessac-project-05-bucket-01/Val라벨_1수도권영동선.zip Val라벨_1수도권영동선.zip\n",
    "\n",
    "output_folder = '/home/jupyter/dataset/valid/xml/'\n",
    "\n",
    "zip_file_paths = ['Val라벨_1수도권영동선.zip']\n",
    "\n",
    "with concurrent.futures.ProcessPoolExecutor() as executor:\n",
    "    executor.map(unzip, zip_file_paths, [output_folder] * len(zip_file_paths))\n",
    "\n",
    "for zip_file in zip_file_paths:\n",
    "    os.remove(zip_file)"
   ]
  },
  {
   "cell_type": "code",
   "execution_count": null,
   "id": "4ee4b7c1-9103-49e5-a6f7-436e9c05303b",
   "metadata": {
    "tags": []
   },
   "outputs": [],
   "source": [
    "!gsutil -m cp gs://sessac-project-05-bucket-01/Val원천_1수도권영동선.zip Val원천_1수도권영동선.zip\n",
    "\n",
    "output_folder = '/home/jupyter/dataset/valid/images/'\n",
    "\n",
    "zip_file_paths = ['Val원천_1수도권영동선.zip']\n",
    "\n",
    "with concurrent.futures.ProcessPoolExecutor() as executor:\n",
    "    executor.map(unzip, zip_file_paths, [output_folder] * len(zip_file_paths))\n",
    "\n",
    "for zip_file in zip_file_paths:\n",
    "    os.remove(zip_file)"
   ]
  }
 ],
 "metadata": {
  "environment": {
   "kernel": "python3",
   "name": ".m113",
   "type": "gcloud",
   "uri": "gcr.io/deeplearning-platform-release/:m113"
  },
  "kernelspec": {
   "display_name": "Python 3",
   "language": "python",
   "name": "python3"
  },
  "language_info": {
   "codemirror_mode": {
    "name": "ipython",
    "version": 3
   },
   "file_extension": ".py",
   "mimetype": "text/x-python",
   "name": "python",
   "nbconvert_exporter": "python",
   "pygments_lexer": "ipython3",
   "version": "3.10.13"
  }
 },
 "nbformat": 4,
 "nbformat_minor": 5
}
