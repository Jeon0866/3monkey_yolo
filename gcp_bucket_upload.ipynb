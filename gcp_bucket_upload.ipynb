{
 "cells": [
  {
   "cell_type": "markdown",
   "metadata": {},
   "source": [
    "# 로컬pc -> Gcp 해당 프로젝트의 버킷 생성 후 업로드\n",
    "\n",
    "- 참고 사이트 : https://wooiljeong.github.io/gcp/gcs-python/\n",
    "- 먼저 해당 프로젝트에 접근 권한을 얻기 위해 프로젝트의 권한 api를 발급 받는다(json 파일)."
   ]
  },
  {
   "cell_type": "code",
   "execution_count": 5,
   "metadata": {},
   "outputs": [],
   "source": [
    "import tensorflow as tf\n",
    "import numpy as np\n",
    "import os, shutil"
   ]
  },
  {
   "cell_type": "code",
   "execution_count": 8,
   "metadata": {},
   "outputs": [
    {
     "name": "stdout",
     "output_type": "stream",
     "text": [
      "기존폴더 삭제 후 폴더 생성\n"
     ]
    }
   ],
   "source": [
    "make_path = './dataset/'\n",
    "\n",
    "if os.path.exists(make_path) == True:\n",
    "    shutil.rmtree(make_path)\n",
    "    os.mkdir(make_path)\n",
    "    print('기존폴더 삭제 후 폴더 생성')\n",
    "else:\n",
    "    os.mkdir(make_path)\n",
    "    print('폴더 생성')"
   ]
  },
  {
   "cell_type": "code",
   "execution_count": 17,
   "metadata": {},
   "outputs": [],
   "source": [
    "from google.cloud import storage\n",
    "from google.oauth2 import service_account"
   ]
  },
  {
   "cell_type": "code",
   "execution_count": 18,
   "metadata": {},
   "outputs": [],
   "source": [
    "# 서비스 계정 인증 정보가 담긴 JSON 파일 경로\n",
    "KEY_PATH = \"./very_important/sessac-project-05-0f14be4083df.json\"\n",
    "# Credentials 객체 생성\n",
    "credentials = service_account.Credentials.from_service_account_file(KEY_PATH)"
   ]
  },
  {
   "cell_type": "code",
   "execution_count": 20,
   "metadata": {},
   "outputs": [],
   "source": [
    "# 구글 스토리지 클라이언트 객체 생성\n",
    "client = storage.Client(credentials = credentials, project = credentials.project_id)"
   ]
  },
  {
   "cell_type": "code",
   "execution_count": 21,
   "metadata": {},
   "outputs": [],
   "source": [
    "# 버킷 이름\n",
    "bucket_name = \"sessac-project-05-bucket-01\"\n",
    "# 스토리지 클래스 - ex. STANDARD: 표준\n",
    "storage_class = \"STANDARD\"\n",
    "# 버킷 위치\n",
    "location = \"us-central1\"\n",
    "# 사전 정의된 ACL - ex. public-read 공개 읽기\n",
    "predefined_acl = \"private\"\n",
    "# 사전 정의된 객체 ACL - ex. public-read 공개 읽기\n",
    "predefined_default_object_acl = \"private\""
   ]
  },
  {
   "cell_type": "code",
   "execution_count": 22,
   "metadata": {},
   "outputs": [
    {
     "data": {
      "text/plain": [
       "'sessac-project-05-bucket-01'"
      ]
     },
     "execution_count": 22,
     "metadata": {},
     "output_type": "execute_result"
    }
   ],
   "source": [
    "# 버킷 객체 생성\n",
    "bucket = client.bucket(bucket_name)\n",
    "# 스토리지 클래스 설정\n",
    "bucket.storage_class = storage_class\n",
    "# 버킷 생성\n",
    "bucket = client.create_bucket(\n",
    "    bucket,\n",
    "    location=location,\n",
    "    predefined_acl=predefined_acl,\n",
    "    predefined_default_object_acl=predefined_default_object_acl,\n",
    ")\n",
    "\n",
    "# 버킷 ID\n",
    "bucket.id"
   ]
  },
  {
   "cell_type": "code",
   "execution_count": 23,
   "metadata": {},
   "outputs": [
    {
     "data": {
      "text/plain": [
       "'https://storage.googleapis.com/sessac-project-05-bucket-01/egg_file'"
      ]
     },
     "execution_count": 23,
     "metadata": {},
     "output_type": "execute_result"
    }
   ],
   "source": [
    "# 블랍 이름\n",
    "blob_name = \"egg_file\"\n",
    "# 적재할 파일 경로\n",
    "file_path = \"./cctv.egg\"\n",
    "\n",
    "# 버킷 선택\n",
    "bucket = client.get_bucket(bucket_name)\n",
    "# 블랍 객체 생성\n",
    "blob = bucket.blob(blob_name)\n",
    "# 파일 업로드\n",
    "blob.upload_from_filename(file_path)\n",
    "# 버킷에 업로드된 객체의 공개 URL\n",
    "blob.public_url"
   ]
  }
 ],
 "metadata": {
  "environment": {
   "kernel": "python3",
   "name": ".m113",
   "type": "gcloud",
   "uri": "gcr.io/deeplearning-platform-release/:m113"
  },
  "kernelspec": {
   "display_name": "Python 3",
   "language": "python",
   "name": "python3"
  },
  "language_info": {
   "codemirror_mode": {
    "name": "ipython",
    "version": 3
   },
   "file_extension": ".py",
   "mimetype": "text/x-python",
   "name": "python",
   "nbconvert_exporter": "python",
   "pygments_lexer": "ipython3",
   "version": "3.10.13"
  }
 },
 "nbformat": 4,
 "nbformat_minor": 4
}
