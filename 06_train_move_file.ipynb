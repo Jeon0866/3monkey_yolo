{
 "cells": [
  {
   "cell_type": "markdown",
   "id": "3d9d92a2",
   "metadata": {},
   "source": [
    "# Train 데이터 옮기기\n",
    "- 저장소 부족으로 copy는 못하고 원본 이동"
   ]
  },
  {
   "cell_type": "code",
   "execution_count": 64,
   "id": "20bbf33d-b67d-4003-83b6-6661f1020f6a",
   "metadata": {
    "tags": []
   },
   "outputs": [],
   "source": [
    "import os, shutil\n",
    "import numpy as np\n",
    "import pandas as pd"
   ]
  },
  {
   "cell_type": "code",
   "execution_count": 39,
   "id": "d0aaece2-8c15-446e-a153-862110f40727",
   "metadata": {
    "tags": []
   },
   "outputs": [
    {
     "data": {
      "text/plain": [
       "['Suwon_CH04_20200720_2000_MON_9m_NH_highway_OW5_sunny_FHD',\n",
       " 'Suwon_CH01_20201010_1800_SAT_9m_RH_highway_TW5_sunny_FHD',\n",
       " 'Suwon_CH02_20201010_1837_SAT_9m_RH_highway_TW5_sunny_FHD',\n",
       " 'Suwon_CH03_20201011_1812_SUN_9m_RH_highway_OW5_sunny_FHD',\n",
       " 'Suwon_CH01_20200720_1700_MON_9m_NH_highway_TW5_sunny_FHD']"
      ]
     },
     "execution_count": 39,
     "metadata": {},
     "output_type": "execute_result"
    }
   ],
   "source": [
    "train_img = './dataset/train/image/'\n",
    "train_list = os.listdir(train_img)\n",
    "train_list[:5]"
   ]
  },
  {
   "cell_type": "code",
   "execution_count": 40,
   "id": "c6b9b97c-008b-4041-b208-605d0cd56026",
   "metadata": {
    "tags": []
   },
   "outputs": [],
   "source": [
    "ch01_ch04 = []"
   ]
  },
  {
   "cell_type": "code",
   "execution_count": 41,
   "id": "9931a336-2a17-4a51-84ba-5d645bbe6299",
   "metadata": {
    "tags": []
   },
   "outputs": [],
   "source": [
    "for _ in range(0, len(train_list)):\n",
    "    file = train_list[_]\n",
    "    if train_list[_].split('_')[1] == 'CH01' or train_list[_].split('_')[1] == 'CH02' or train_list[_].split('_')[1] == 'CH03' or train_list[_].split('_')[1] == 'CH04':\n",
    "        ch01_ch04.append(file)"
   ]
  },
  {
   "cell_type": "code",
   "execution_count": 42,
   "id": "c56008f9-3fe9-457f-a3e0-5a89eb08c9a2",
   "metadata": {
    "tags": []
   },
   "outputs": [
    {
     "data": {
      "text/plain": [
       "168"
      ]
     },
     "execution_count": 42,
     "metadata": {},
     "output_type": "execute_result"
    }
   ],
   "source": [
    "len(ch01_ch04)"
   ]
  },
  {
   "cell_type": "code",
   "execution_count": 43,
   "id": "5623d893-118a-437d-8637-ee0b80769d2d",
   "metadata": {
    "tags": []
   },
   "outputs": [
    {
     "data": {
      "text/plain": [
       "['Suwon_CH04_20200720_2000_MON_9m_NH_highway_OW5_sunny_FHD',\n",
       " 'Suwon_CH01_20201010_1800_SAT_9m_RH_highway_TW5_sunny_FHD',\n",
       " 'Suwon_CH02_20201010_1837_SAT_9m_RH_highway_TW5_sunny_FHD',\n",
       " 'Suwon_CH03_20201011_1812_SUN_9m_RH_highway_OW5_sunny_FHD',\n",
       " 'Suwon_CH01_20200720_1700_MON_9m_NH_highway_TW5_sunny_FHD']"
      ]
     },
     "execution_count": 43,
     "metadata": {},
     "output_type": "execute_result"
    }
   ],
   "source": [
    "ch01_ch04[:5]"
   ]
  },
  {
   "cell_type": "markdown",
   "id": "f8169e80",
   "metadata": {},
   "source": [
    "### 파일 이동 -> 원본이동 이라 복사하실꺼면 shutil 말고 copy2로 진행"
   ]
  },
  {
   "cell_type": "code",
   "execution_count": 45,
   "id": "e477ebd1-d5c7-438d-bc89-840338ec51a8",
   "metadata": {
    "tags": []
   },
   "outputs": [],
   "source": [
    "# 파일 이동\n",
    "for _ in ch01_ch04:\n",
    "    move_path = './dataset/train/images/' + _\n",
    "    orig_path = './dataset/train/image/' + _ \n",
    "    shutil.move(orig_path, move_path)"
   ]
  },
  {
   "cell_type": "code",
   "execution_count": 46,
   "id": "85267009-2438-4205-93b2-c278ddf50187",
   "metadata": {
    "tags": []
   },
   "outputs": [
    {
     "data": {
      "text/plain": [
       "['Suwon_CH04_20200720_2000_MON_9m_NH_highway_OW5_sunny_FHD',\n",
       " 'Suwon_CH01_20201010_1800_SAT_9m_RH_highway_TW5_sunny_FHD',\n",
       " 'Suwon_CH02_20201010_1837_SAT_9m_RH_highway_TW5_sunny_FHD',\n",
       " 'Suwon_CH03_20201011_1812_SUN_9m_RH_highway_OW5_sunny_FHD',\n",
       " 'Suwon_CH01_20200720_1700_MON_9m_NH_highway_TW5_sunny_FHD']"
      ]
     },
     "execution_count": 46,
     "metadata": {},
     "output_type": "execute_result"
    }
   ],
   "source": [
    "path = './dataset/train/images'\n",
    "test = os.listdir(path)\n",
    "test[:5]"
   ]
  },
  {
   "cell_type": "code",
   "execution_count": 76,
   "id": "98069f81-6209-44db-9f8c-cc750d6dc79a",
   "metadata": {
    "tags": []
   },
   "outputs": [],
   "source": [
    "# 폴더 상위폴더로 이미지 옮기기\n",
    "for a in range(0 , len(test)):\n",
    "    orig_path = f'./dataset/train/images/{test[a]}/'\n",
    "    remove_path = './dataset/train/images/'\n",
    "    # print(orig_path)\n",
    "    file = os.listdir(orig_path)\n",
    "    for _ in file:\n",
    "        if os.path.exists(orig_path+_) == True:\n",
    "            shutil.move(orig_path + _, remove_path)\n",
    "        else:\n",
    "            pass"
   ]
  },
  {
   "cell_type": "code",
   "execution_count": 78,
   "id": "db10cc2d-6811-4786-9a00-9b78caac85d8",
   "metadata": {},
   "outputs": [],
   "source": [
    "# 비어있는 폴더 삭제\n",
    "for _ in range(0 , len(test)):\n",
    "    drop_folder = './dataset/train/images/' + test[_]\n",
    "    shutil.rmtree(drop_folder)"
   ]
  },
  {
   "cell_type": "code",
   "execution_count": null,
   "id": "982e5736-4064-4ec2-9cca-45bb67eabeee",
   "metadata": {},
   "outputs": [],
   "source": []
  }
 ],
 "metadata": {
  "environment": {
   "kernel": "python3",
   "name": ".m113",
   "type": "gcloud",
   "uri": "gcr.io/deeplearning-platform-release/:m113"
  },
  "kernelspec": {
   "display_name": "Python 3",
   "language": "python",
   "name": "python3"
  },
  "language_info": {
   "codemirror_mode": {
    "name": "ipython",
    "version": 3
   },
   "file_extension": ".py",
   "mimetype": "text/x-python",
   "name": "python",
   "nbconvert_exporter": "python",
   "pygments_lexer": "ipython3",
   "version": "3.10.13"
  }
 },
 "nbformat": 4,
 "nbformat_minor": 5
}
