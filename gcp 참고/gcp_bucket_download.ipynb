{
 "cells": [
  {
   "cell_type": "markdown",
   "metadata": {},
   "source": [
    "# GCP Bucket 데이터 다운로드\n",
    "- 계정 api 참고 문서 : https://soundprovider.tistory.com/entry/GCP-Python%EC%97%90%EC%84%9C-GCP-Cloud-Storage-%EC%97%B0%EB%8F%99%ED%95%98%EA%B8%B0\n",
    "\n",
    "- 버킷 만들기 참고 문서 : https://wooiljeong.github.io/gcp/gcs-python-bucket/"
   ]
  },
  {
   "cell_type": "code",
   "execution_count": 2,
   "metadata": {},
   "outputs": [],
   "source": [
    "import os\n",
    "from google.cloud import storage"
   ]
  },
  {
   "cell_type": "code",
   "execution_count": 5,
   "metadata": {},
   "outputs": [],
   "source": [
    "# 개인 key\n",
    "KEY = './very_import/sessac-project-05-0f14be4083df.json'"
   ]
  },
  {
   "cell_type": "code",
   "execution_count": 6,
   "metadata": {},
   "outputs": [],
   "source": [
    "# 환경 변수 설정\n",
    "os.environ[\"GOOGLE_APPLICATION_CREDENTIALS\"] = KEY"
   ]
  },
  {
   "cell_type": "code",
   "execution_count": 8,
   "metadata": {},
   "outputs": [
    {
     "name": "stdout",
     "output_type": "stream",
     "text": [
      "[<Bucket: sessac-project-05-bucket>, <Bucket: sessac-project-05-bucket-01>]\n"
     ]
    }
   ],
   "source": [
    "# gcp 접속 및 버킷 확인\n",
    "storage_client = storage.Client()\n",
    "buckets = list(storage_client.list_buckets())\n",
    "\n",
    "print(buckets)"
   ]
  },
  {
   "cell_type": "code",
   "execution_count": null,
   "metadata": {},
   "outputs": [],
   "source": [
    "train_img = ['[Train원천]1-1.수도권영동선.zip', '[Train원천]1-2.수도권영동선.zip', '[Train원천]1-3.수도권영동선.zip']\n",
    "val_img = '[Val원천]1.수도권영동선.zip'\n",
    "\n",
    "train_label = '[Train라벨]1.수도권영동선.zip'\n",
    "val_label = '[Val라벨]1.수도권영동선.zip'"
   ]
  },
  {
   "cell_type": "code",
   "execution_count": null,
   "metadata": {},
   "outputs": [],
   "source": [
    "from google.cloud import storage\n",
    "\n",
    "bucket_name = 'sessac-project-05-bucket-01'    # 서비스 계정 생성한 bucket 이름 입력\n",
    "source_blob_name =  train_label   # GCP에 저장되어 있는 파일 명\n",
    "destination_file_name = './'    # 다운받을 파일을 저장할 경로(\"local/path/to/file\")\n",
    "\n",
    "storage_client = storage.Client()\n",
    "bucket = storage_client.bucket(bucket_name)\n",
    "blob = bucket.blob(source_blob_name)\n",
    "\n",
    "blob.download_to_filename(destination_file_name)"
   ]
  }
 ],
 "metadata": {
  "kernelspec": {
   "display_name": "sklearn",
   "language": "python",
   "name": "python3"
  },
  "language_info": {
   "codemirror_mode": {
    "name": "ipython",
    "version": 3
   },
   "file_extension": ".py",
   "mimetype": "text/x-python",
   "name": "python",
   "nbconvert_exporter": "python",
   "pygments_lexer": "ipython3",
   "version": "3.8.18"
  }
 },
 "nbformat": 4,
 "nbformat_minor": 2
}
