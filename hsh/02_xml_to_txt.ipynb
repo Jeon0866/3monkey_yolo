{
 "cells": [
  {
   "cell_type": "code",
   "execution_count": 1,
   "id": "3ab6c4dd-e2ea-46e9-a9f0-0b725a41c7c8",
   "metadata": {
    "tags": []
   },
   "outputs": [
    {
     "name": "stdout",
     "output_type": "stream",
     "text": [
      "Collecting lxml\n",
      "  Downloading lxml-4.9.3-cp310-cp310-manylinux_2_28_x86_64.whl.metadata (3.8 kB)\n",
      "Downloading lxml-4.9.3-cp310-cp310-manylinux_2_28_x86_64.whl (7.9 MB)\n",
      "\u001b[2K   \u001b[90m━━━━━━━━━━━━━━━━━━━━━━━━━━━━━━━━━━━━━━━━\u001b[0m \u001b[32m7.9/7.9 MB\u001b[0m \u001b[31m61.3 MB/s\u001b[0m eta \u001b[36m0:00:00\u001b[0m00:01\u001b[0m00:01\u001b[0m\n",
      "\u001b[?25hInstalling collected packages: lxml\n",
      "Successfully installed lxml-4.9.3\n"
     ]
    }
   ],
   "source": [
    "# 필요한 라이브러리 및 모듈을 임포트\n",
    "\n",
    "!pip install lxml\n",
    "\n",
    "import numpy as np\n",
    "import lxml\n",
    "import os\n",
    "\n",
    "from lxml import etree"
   ]
  },
  {
   "cell_type": "code",
   "execution_count": 2,
   "id": "6a8fa160-db21-4eb4-ad2a-5a8f2e8e53fb",
   "metadata": {
    "tags": []
   },
   "outputs": [],
   "source": [
    "# 객체 클래스를 정의\n",
    "\n",
    "CLASSES = [\"car\", \"bus\", \"truck\"]"
   ]
  },
  {
   "cell_type": "code",
   "execution_count": 3,
   "id": "173c0b05-05f3-4a4e-8649-27ecb727a80b",
   "metadata": {
    "tags": []
   },
   "outputs": [],
   "source": [
    "# YOLOv8 형식으로 좌표를 변환하는 함수를 정의\n",
    "\n",
    "def to_yolov8(y):\n",
    "    width = y[2] - y[0]\n",
    "    height = y[3] - y[1]\n",
    "\n",
    "    if width < 0 or height < 0:\n",
    "        print(\"ERROR: negative width or height \", width, height, y)\n",
    "        raise AssertionError(\"Negative width or height\")\n",
    "    return (y[0] + (width/2)), (y[1] + (height/2)), width, height"
   ]
  },
  {
   "cell_type": "code",
   "execution_count": 4,
   "id": "3fe4b946-d6ca-44d5-8969-92d8cd95bc7f",
   "metadata": {
    "tags": []
   },
   "outputs": [],
   "source": [
    "# XML 파일에서 객체 검출(annotation) 정보를 로드하는 함수를 정의합니다.\n",
    "\n",
    "def load_xml_annotations(f):\n",
    "    tree = etree.parse(f)\n",
    "    anns = []\n",
    "    for dim in tree.xpath(\"image\"):\n",
    "        image_filename = dim.attrib[\"name\"]\n",
    "        width = int(dim.attrib[\"width\"])\n",
    "        height = int(dim.attrib[\"height\"])\n",
    "\n",
    "        boxes = []\n",
    "        for box in dim.xpath(\"box\"):\n",
    "            label = CLASSES.index(box.attrib[\"label\"])\n",
    "            xtl, ytl = box.attrib[\"xtl\"], box.attrib[\"ytl\"]\n",
    "            xbr, ybr = box.attrib[\"xbr\"], box.attrib[\"ybr\"]\n",
    "\n",
    "            if 'occluded' in box.attrib:\n",
    "                del box.attrib['occluded']\n",
    "            if 'order' in box.attrib:\n",
    "                del box.attrib['order']\n",
    "\n",
    "            xc, yc, w, h = to_yolov8([float(xtl), float(ytl), float(xbr), float(ybr)])\n",
    "            boxes.append([label, round(xc/width, 5), round(yc/height, 5), round(w/width, 5), round(h/height, 5)])\n",
    "\n",
    "        if boxes:\n",
    "            anns.append([image_filename[:-4] + \".txt\", width, height, boxes])\n",
    "\n",
    "    return anns"
   ]
  },
  {
   "cell_type": "code",
   "execution_count": 5,
   "id": "70cdafd2-87fb-4c7c-b911-1999f41b5d4c",
   "metadata": {
    "tags": []
   },
   "outputs": [],
   "source": [
    "# YOLOv8 형식의 텍스트 파일로 변환하여 저장하는 함수를 정의\n",
    "\n",
    "def write_yolov8_txt(folder, annotation):\n",
    "    out_filename = os.path.join(folder, annotation[0])\n",
    "\n",
    "    with open(out_filename, \"w+\") as f:\n",
    "        for box in annotation[3]:\n",
    "            f.write(\"{} {} {} {} {}\\n\".format(box[0], box[1], box[2], box[3], box[4]))"
   ]
  },
  {
   "cell_type": "code",
   "execution_count": 6,
   "id": "5853afd9-fd5e-4f4a-8e4e-d64a36091ff1",
   "metadata": {
    "tags": []
   },
   "outputs": [],
   "source": [
    "# 모든 XML 파일을 YOLOv8 형식의 텍스트 파일로 변환하는 함수를 정의\n",
    "\n",
    "def convert_all_xml_files(input_dir, output_dir, specific_strings):\n",
    "    for filename in os.listdir(input_dir):\n",
    "        if filename.endswith('.xml') and any(s in filename for s in specific_strings):\n",
    "            xml_file_path = os.path.join(input_dir, filename)\n",
    "            folder_name = os.path.splitext(filename)[0]\n",
    "            os.makedirs(os.path.join(output_dir, folder_name), exist_ok=True)\n",
    "\n",
    "            # XML을 TXT로 변환\n",
    "            anns = load_xml_annotations(xml_file_path)\n",
    "\n",
    "            for ann in anns:\n",
    "                write_yolov8_txt(os.path.join(output_dir, folder_name), ann)"
   ]
  },
  {
   "cell_type": "code",
   "execution_count": 8,
   "id": "f1a81cbc-217d-42b6-812b-7374dcff592b",
   "metadata": {
    "tags": []
   },
   "outputs": [],
   "source": [
    "# valid 데이터 txt변환\n",
    "\n",
    "input_dir = '/home/jupyter/datasets/xml_val'\n",
    "output_dir = '/home/jupyter/datasets/val/labels'\n",
    "specific_strings = ['CH01', 'CH02', 'CH03', 'CH04']\n",
    "\n",
    "convert_all_xml_files(input_dir, output_dir, specific_strings)\n"
   ]
  },
  {
   "cell_type": "code",
   "execution_count": 9,
   "id": "7971da87-a46b-4c10-842e-760e91363200",
   "metadata": {},
   "outputs": [],
   "source": [
    "#train 데이터 txt변환\n",
    "\n",
    "input_dir = '/home/jupyter/datasets/xml_train'\n",
    "output_dir = '/home/jupyter/datasets/train/labels'\n",
    "specific_strings = ['CH01', 'CH02', 'CH03', 'CH04']\n",
    "\n",
    "convert_all_xml_files(input_dir, output_dir, specific_strings)\n"
   ]
  },
  {
   "cell_type": "code",
   "execution_count": null,
   "id": "ec222c8c-4945-4f15-8350-e543422fbbc6",
   "metadata": {},
   "outputs": [],
   "source": []
  }
 ],
 "metadata": {
  "environment": {
   "kernel": "python3",
   "name": ".m113",
   "type": "gcloud",
   "uri": "gcr.io/deeplearning-platform-release/:m113"
  },
  "kernelspec": {
   "display_name": "Python 3",
   "language": "python",
   "name": "python3"
  },
  "language_info": {
   "codemirror_mode": {
    "name": "ipython",
    "version": 3
   },
   "file_extension": ".py",
   "mimetype": "text/x-python",
   "name": "python",
   "nbconvert_exporter": "python",
   "pygments_lexer": "ipython3",
   "version": "3.10.13"
  }
 },
 "nbformat": 4,
 "nbformat_minor": 5
}
