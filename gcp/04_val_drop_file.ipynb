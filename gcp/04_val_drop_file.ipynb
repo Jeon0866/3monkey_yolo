{
 "cells": [
  {
   "cell_type": "markdown",
   "id": "7373f1a4-a241-45ad-8093-4bcbd1daf5f1",
   "metadata": {},
   "source": [
    "# xml 파일 txt 파일로 변경"
   ]
  },
  {
   "cell_type": "code",
   "execution_count": 1,
   "id": "0cd5f6b6-4da9-4a78-b410-01212f21dd44",
   "metadata": {
    "tags": []
   },
   "outputs": [],
   "source": [
    "import os"
   ]
  },
  {
   "cell_type": "markdown",
   "id": "ddf41ea8-0d2b-475a-ad22-839eb864365e",
   "metadata": {},
   "source": [
    "### val 데이터 먼저 분리"
   ]
  },
  {
   "cell_type": "code",
   "execution_count": 2,
   "id": "e79318ed-8e38-410a-90f8-83b8f924d1dc",
   "metadata": {
    "tags": []
   },
   "outputs": [
    {
     "data": {
      "text/plain": [
       "['Suwon_CH04_20201012_1838_MON_9m_RH_highway_OW5_sunny_FHD.xml',\n",
       " 'Suwon_CH04_20200722_1600_WED_9m_NH_highway_OW5_rainy_FHD.xml',\n",
       " 'Suwon_CH08_20200722_1500_WED_9m_NH_highway_OW5_rainy_FHD.xml',\n",
       " 'Suwon_CH05_20200722_1430_WED_9m_NH_highway_OW5_rainy_FHD.xml',\n",
       " 'Suwon_CH03_20201012_1933_MON_9m_RH_highway_OW5_sunny_FHD.xml']"
      ]
     },
     "execution_count": 2,
     "metadata": {},
     "output_type": "execute_result"
    }
   ],
   "source": [
    "val_xml = './datasets/valid/xml/'\n",
    "\n",
    "val_list = os.listdir(val_xml)\n",
    "val_list[:5]"
   ]
  },
  {
   "cell_type": "code",
   "execution_count": 3,
   "id": "98a29e1e-7860-4a4e-8899-8723560e1bfa",
   "metadata": {
    "tags": []
   },
   "outputs": [],
   "source": [
    "ch01_to_04 = []\n",
    "for _ in range(0, len(val_list)):\n",
    "    chennel = val_list[_].split('_')[1]\n",
    "    if chennel == 'CH01' or chennel == 'CH02' or chennel == 'CH03' or chennel =='CH04':\n",
    "        ch01_to_04.append(val_list[_])"
   ]
  },
  {
   "cell_type": "code",
   "execution_count": 4,
   "id": "f94173ba-7554-4a28-9b54-8f9d727869c6",
   "metadata": {
    "tags": []
   },
   "outputs": [
    {
     "data": {
      "text/plain": [
       "['Suwon_CH04_20201012_1838_MON_9m_RH_highway_OW5_sunny_FHD.xml',\n",
       " 'Suwon_CH04_20200722_1600_WED_9m_NH_highway_OW5_rainy_FHD.xml',\n",
       " 'Suwon_CH03_20201012_1933_MON_9m_RH_highway_OW5_sunny_FHD.xml',\n",
       " 'Suwon_CH03_20200722_1700_WED_9m_NH_highway_OW5_sunny_FHD.xml',\n",
       " 'Suwon_CH02_20201213_0933_SUN_9m_NH_highway_TW5_snow_FHD.xml',\n",
       " 'Suwon_CH04_20200720_1830_MON_9m_NH_highway_OW5_sunny_FHD.xml',\n",
       " 'Suwon_CH04_20201010_1818_SAT_9m_RH_highway_OW5_sunny_FHD.xml',\n",
       " 'Suwon_CH03_20201011_1742_SUN_9m_RH_highway_OW5_sunny_FHD.xml',\n",
       " 'Suwon_CH01_20200722_1430_WED_9m_NH_highway_TW5_rainy_FHD.xml',\n",
       " 'Suwon_CH01_20201012_1723_MON_9m_RH_highway_TW5_sunny_FHD.xml',\n",
       " 'Suwon_CH02_20200721_2030_TUE_9m_NH_highway_TW5_sunny_FHD.xml',\n",
       " 'Suwon_CH03_20200720_2030_MON_9m_NH_highway_OW5_sunny_FHD.xml',\n",
       " 'Suwon_CH02_20201011_1806_SUN_9m_RH_highway_TW5_sunny_FHD.xml',\n",
       " 'Suwon_CH03_20200721_2000_TUE_9m_NH_highway_OW5_sunny_FHD.xml',\n",
       " 'Suwon_CH04_20200721_1830_TUE_9m_RH_highway_OW5_sunny_FHD.xml',\n",
       " 'Suwon_CH01_20201213_1200_SUN_9m_NH_highway_TW5_snow_FHD.xml',\n",
       " 'Suwon_CH02_20200722_1730_WED_9m_NH_highway_TW5_sunny_FHD.xml',\n",
       " 'Suwon_CH02_20200720_2130_MON_9m_NH_highway_TW5_sunny_FHD.xml',\n",
       " 'Suwon_CH01_20200721_1700_TUE_9m_RH_highway_TW5_sunny_FHD.xml',\n",
       " 'Suwon_CH01_20200722_1930_WED_9m_NH_highway_TW5_sunny_FHD.xml',\n",
       " 'Suwon_CH01_20200720_1830_MON_9m_RH_highway_TW5_sunny_FHD.xml']"
      ]
     },
     "execution_count": 4,
     "metadata": {},
     "output_type": "execute_result"
    }
   ],
   "source": [
    "ch01_to_04"
   ]
  },
  {
   "cell_type": "code",
   "execution_count": 5,
   "id": "9bb05798-0f6c-45f9-9362-9d8ddeff902d",
   "metadata": {
    "tags": []
   },
   "outputs": [],
   "source": [
    "val_chose_name = []\n",
    "for _ in range(0, len(ch01_to_04)):\n",
    "    val_chose_name.append(ch01_to_04[_].split('.')[0])"
   ]
  },
  {
   "cell_type": "code",
   "execution_count": 6,
   "id": "2dd7e253-4a50-49b8-8218-2c3644e62fa2",
   "metadata": {
    "tags": []
   },
   "outputs": [
    {
     "data": {
      "text/plain": [
       "['Suwon_CH04_20201012_1838_MON_9m_RH_highway_OW5_sunny_FHD',\n",
       " 'Suwon_CH04_20200722_1600_WED_9m_NH_highway_OW5_rainy_FHD',\n",
       " 'Suwon_CH03_20201012_1933_MON_9m_RH_highway_OW5_sunny_FHD',\n",
       " 'Suwon_CH03_20200722_1700_WED_9m_NH_highway_OW5_sunny_FHD',\n",
       " 'Suwon_CH02_20201213_0933_SUN_9m_NH_highway_TW5_snow_FHD',\n",
       " 'Suwon_CH04_20200720_1830_MON_9m_NH_highway_OW5_sunny_FHD',\n",
       " 'Suwon_CH04_20201010_1818_SAT_9m_RH_highway_OW5_sunny_FHD',\n",
       " 'Suwon_CH03_20201011_1742_SUN_9m_RH_highway_OW5_sunny_FHD',\n",
       " 'Suwon_CH01_20200722_1430_WED_9m_NH_highway_TW5_rainy_FHD',\n",
       " 'Suwon_CH01_20201012_1723_MON_9m_RH_highway_TW5_sunny_FHD',\n",
       " 'Suwon_CH02_20200721_2030_TUE_9m_NH_highway_TW5_sunny_FHD',\n",
       " 'Suwon_CH03_20200720_2030_MON_9m_NH_highway_OW5_sunny_FHD',\n",
       " 'Suwon_CH02_20201011_1806_SUN_9m_RH_highway_TW5_sunny_FHD',\n",
       " 'Suwon_CH03_20200721_2000_TUE_9m_NH_highway_OW5_sunny_FHD',\n",
       " 'Suwon_CH04_20200721_1830_TUE_9m_RH_highway_OW5_sunny_FHD',\n",
       " 'Suwon_CH01_20201213_1200_SUN_9m_NH_highway_TW5_snow_FHD',\n",
       " 'Suwon_CH02_20200722_1730_WED_9m_NH_highway_TW5_sunny_FHD',\n",
       " 'Suwon_CH02_20200720_2130_MON_9m_NH_highway_TW5_sunny_FHD',\n",
       " 'Suwon_CH01_20200721_1700_TUE_9m_RH_highway_TW5_sunny_FHD',\n",
       " 'Suwon_CH01_20200722_1930_WED_9m_NH_highway_TW5_sunny_FHD',\n",
       " 'Suwon_CH01_20200720_1830_MON_9m_RH_highway_TW5_sunny_FHD']"
      ]
     },
     "execution_count": 6,
     "metadata": {},
     "output_type": "execute_result"
    }
   ],
   "source": [
    "val_chose_name"
   ]
  },
  {
   "cell_type": "code",
   "execution_count": 7,
   "id": "da98daaa-5907-471f-a213-58b351093610",
   "metadata": {
    "tags": []
   },
   "outputs": [
    {
     "data": {
      "text/plain": [
       "array(['Suwon_CH01_20200720_1830_MON_9m_RH_highway_TW5_sunny_FHD',\n",
       "       'Suwon_CH01_20200721_1700_TUE_9m_RH_highway_TW5_sunny_FHD',\n",
       "       'Suwon_CH01_20200722_1430_WED_9m_NH_highway_TW5_rainy_FHD',\n",
       "       'Suwon_CH01_20200722_1930_WED_9m_NH_highway_TW5_sunny_FHD',\n",
       "       'Suwon_CH01_20201012_1723_MON_9m_RH_highway_TW5_sunny_FHD',\n",
       "       'Suwon_CH01_20201213_1200_SUN_9m_NH_highway_TW5_snow_FHD',\n",
       "       'Suwon_CH02_20200720_2130_MON_9m_NH_highway_TW5_sunny_FHD',\n",
       "       'Suwon_CH02_20200721_2030_TUE_9m_NH_highway_TW5_sunny_FHD',\n",
       "       'Suwon_CH02_20200722_1730_WED_9m_NH_highway_TW5_sunny_FHD',\n",
       "       'Suwon_CH02_20201011_1806_SUN_9m_RH_highway_TW5_sunny_FHD',\n",
       "       'Suwon_CH02_20201213_0933_SUN_9m_NH_highway_TW5_snow_FHD',\n",
       "       'Suwon_CH03_20200720_2030_MON_9m_NH_highway_OW5_sunny_FHD',\n",
       "       'Suwon_CH03_20200721_2000_TUE_9m_NH_highway_OW5_sunny_FHD',\n",
       "       'Suwon_CH03_20200722_1700_WED_9m_NH_highway_OW5_sunny_FHD',\n",
       "       'Suwon_CH03_20201011_1742_SUN_9m_RH_highway_OW5_sunny_FHD',\n",
       "       'Suwon_CH03_20201012_1933_MON_9m_RH_highway_OW5_sunny_FHD',\n",
       "       'Suwon_CH04_20200720_1830_MON_9m_NH_highway_OW5_sunny_FHD',\n",
       "       'Suwon_CH04_20200721_1830_TUE_9m_RH_highway_OW5_sunny_FHD',\n",
       "       'Suwon_CH04_20200722_1600_WED_9m_NH_highway_OW5_rainy_FHD',\n",
       "       'Suwon_CH04_20201010_1818_SAT_9m_RH_highway_OW5_sunny_FHD',\n",
       "       'Suwon_CH04_20201012_1838_MON_9m_RH_highway_OW5_sunny_FHD'],\n",
       "      dtype='<U56')"
      ]
     },
     "execution_count": 7,
     "metadata": {},
     "output_type": "execute_result"
    }
   ],
   "source": [
    "import numpy as np\n",
    "np.unique(val_chose_name)"
   ]
  },
  {
   "cell_type": "code",
   "execution_count": 8,
   "id": "c0da2ee2-23a7-4532-8dc2-8b9594770074",
   "metadata": {
    "tags": []
   },
   "outputs": [
    {
     "data": {
      "text/plain": [
       "21"
      ]
     },
     "execution_count": 8,
     "metadata": {},
     "output_type": "execute_result"
    }
   ],
   "source": [
    "len(val_chose_name)"
   ]
  },
  {
   "cell_type": "code",
   "execution_count": 9,
   "id": "09a0e5a1-bdc8-4fc1-9149-4d5616eca22f",
   "metadata": {
    "tags": []
   },
   "outputs": [
    {
     "data": {
      "text/plain": [
       "'Suwon_CH01_20200720_1830_MON_9m_RH_highway_TW5_sunny_FHD'"
      ]
     },
     "execution_count": 9,
     "metadata": {},
     "output_type": "execute_result"
    }
   ],
   "source": [
    "val_chose_name[20]"
   ]
  },
  {
   "cell_type": "markdown",
   "id": "8fe38ac6-334e-42a7-b325-8571eceb4ac5",
   "metadata": {},
   "source": [
    "### 위에서 상관없는 데이터 삭제"
   ]
  },
  {
   "cell_type": "code",
   "execution_count": 10,
   "id": "83227100-f8c9-413e-89a1-bb807652e713",
   "metadata": {
    "tags": []
   },
   "outputs": [],
   "source": [
    "import os, shutil"
   ]
  },
  {
   "cell_type": "code",
   "execution_count": 11,
   "id": "0038aa98-e311-4e52-ae52-2e87726def91",
   "metadata": {
    "tags": []
   },
   "outputs": [],
   "source": [
    "img_path = './datasets/valid/images/BB_01수도권영동선_Validation_image/'"
   ]
  },
  {
   "cell_type": "code",
   "execution_count": 12,
   "id": "5afa9999-7b11-47d7-83ed-fac2ec4021c7",
   "metadata": {
    "tags": []
   },
   "outputs": [],
   "source": [
    "val_img_dir = os.listdir(img_path)"
   ]
  },
  {
   "cell_type": "code",
   "execution_count": 13,
   "id": "949545b4",
   "metadata": {
    "tags": []
   },
   "outputs": [
    {
     "data": {
      "text/plain": [
       "['Suwon_CH01_20201012_1723_MON_9m_RH_highway_TW5_sunny_FHD',\n",
       " 'Suwon_CH04_20200721_1830_TUE_9m_RH_highway_OW5_sunny_FHD',\n",
       " 'Suwon_CH09_20200721_1730_TUE_9m_NH_highway_OW5_sunny_FHD',\n",
       " 'Suwon_CH03_20201011_1742_SUN_9m_RH_highway_OW5_sunny_FHD',\n",
       " 'Suwon_CH06_20200722_1400_WED_9m_NH_highway_OW5_rainy_FHD']"
      ]
     },
     "execution_count": 13,
     "metadata": {},
     "output_type": "execute_result"
    }
   ],
   "source": [
    "val_img_dir[:5]"
   ]
  },
  {
   "cell_type": "code",
   "execution_count": 14,
   "id": "01ccc64d-c2f1-49f1-b426-726000a54418",
   "metadata": {
    "tags": []
   },
   "outputs": [
    {
     "name": "stdout",
     "output_type": "stream",
     "text": [
      "0 일치\n",
      "0 일치\n",
      "0 일치\n",
      "0 일치\n",
      "0 일치\n",
      "0 일치\n",
      "0 일치\n",
      "0 일치\n",
      "0 일치\n",
      "0 일치\n",
      "0 일치\n",
      "0 일치\n",
      "0 일치\n",
      "0 일치\n",
      "0 일치\n",
      "0 일치\n",
      "0 일치\n",
      "0 일치\n",
      "0 일치\n",
      "0 일치\n"
     ]
    }
   ],
   "source": [
    "for _ in val_img_dir:\n",
    "    if _ == val_chose_name[0]:\n",
    "        print('0 일치')\n",
    "    elif  _ == val_chose_name[1]:\n",
    "        print('0 일치')\n",
    "    elif  _ == val_chose_name[2]:\n",
    "        print('0 일치')\n",
    "    elif  _ == val_chose_name[3]:\n",
    "        print('0 일치')\n",
    "    elif  _ == val_chose_name[4]:\n",
    "        print('0 일치')\n",
    "    elif  _ == val_chose_name[5]:\n",
    "        print('0 일치')\n",
    "    elif  _ == val_chose_name[6]:\n",
    "        print('0 일치')\n",
    "    elif  _ == val_chose_name[7]:\n",
    "        print('0 일치')\n",
    "    elif  _ == val_chose_name[8]:\n",
    "        print('0 일치')\n",
    "    elif _  == val_chose_name[8]:\n",
    "        print('0 일치')\n",
    "    elif _  == val_chose_name[10]:\n",
    "        print('0 일치')\n",
    "    elif _  == val_chose_name[11]:\n",
    "        print('0 일치')\n",
    "    elif _  == val_chose_name[12]:\n",
    "        print('0 일치')\n",
    "    elif _  == val_chose_name[13]:\n",
    "        print('0 일치')\n",
    "    elif _  == val_chose_name[14]:\n",
    "        print('0 일치')\n",
    "    elif _  == val_chose_name[15]:\n",
    "        print('0 일치')\n",
    "    elif _  == val_chose_name[16]:\n",
    "        print('0 일치')\n",
    "    elif _  == val_chose_name[17]:\n",
    "        print('0 일치')\n",
    "    elif _  == val_chose_name[18]:\n",
    "        print('0 일치')\n",
    "    elif _  == val_chose_name[19]:\n",
    "        print('0 일치')\n",
    "    elif _  == val_chose_name[20]:\n",
    "        print('0 일치')\n",
    "    else :\n",
    "        shutil.rmtree(img_path + _)"
   ]
  },
  {
   "cell_type": "code",
   "execution_count": 15,
   "id": "d5de20a9-da5e-41e1-8cec-bb40fa02b833",
   "metadata": {
    "tags": []
   },
   "outputs": [],
   "source": [
    "img_path = './datasets/valid/images/BB_01수도권영동선_Validation_image/'\n",
    "\n",
    "val_img_dir = os.listdir(img_path)"
   ]
  },
  {
   "cell_type": "code",
   "execution_count": 16,
   "id": "577dfa2f-6375-41be-a5e7-46c8c0f64b16",
   "metadata": {
    "tags": []
   },
   "outputs": [
    {
     "data": {
      "text/plain": [
       "20"
      ]
     },
     "execution_count": 16,
     "metadata": {},
     "output_type": "execute_result"
    }
   ],
   "source": [
    "len(val_img_dir)"
   ]
  },
  {
   "cell_type": "code",
   "execution_count": 17,
   "id": "d6f9e9fc-0e70-4ad4-90e0-c656588f3b27",
   "metadata": {
    "tags": []
   },
   "outputs": [
    {
     "data": {
      "text/plain": [
       "['Suwon_CH04_20200721_1830_TUE_9m_RH_highway_OW5_sunny_FHD',\n",
       " 'Suwon_CH03_20201011_1742_SUN_9m_RH_highway_OW5_sunny_FHD',\n",
       " 'Suwon_CH03_20200722_1700_WED_9m_NH_highway_OW5_sunny_FHD',\n",
       " 'Suwon_CH01_20200721_1700_TUE_9m_RH_highway_TW5_sunny_FHD',\n",
       " 'Suwon_CH04_20201012_1838_MON_9m_RH_highway_OW5_sunny_FHD',\n",
       " 'Suwon_CH01_20200720_1830_MON_9m_RH_highway_TW5_sunny_FHD',\n",
       " 'Suwon_CH02_20200721_2030_TUE_9m_NH_highway_TW5_sunny_FHD',\n",
       " 'Suwon_CH01_20201213_1200_SUN_9m_NH_highway_TW5_snow_FHD',\n",
       " 'Suwon_CH02_20201011_1806_SUN_9m_RH_highway_TW5_sunny_FHD',\n",
       " 'Suwon_CH04_20200720_1830_MON_9m_NH_highway_OW5_sunny_FHD',\n",
       " 'Suwon_CH03_20201012_1933_MON_9m_RH_highway_OW5_sunny_FHD',\n",
       " 'Suwon_CH03_20200721_2000_TUE_9m_NH_highway_OW5_sunny_FHD',\n",
       " 'Suwon_CH03_20200720_2030_MON_9m_NH_highway_OW5_sunny_FHD',\n",
       " 'Suwon_CH01_20200722_1930_WED_9m_NH_highway_TW5_sunny_FHD',\n",
       " 'Suwon_CH02_20201213_0933_SUN_9m_NH_highway_TW5_snow_FHD',\n",
       " 'Suwon_CH01_20200722_1430_WED_9m_NH_highway_TW5_rainy_FHD',\n",
       " 'Suwon_CH04_20200722_1600_WED_9m_NH_highway_OW5_rainy_FHD',\n",
       " 'Suwon_CH02_20200722_1730_WED_9m_NH_highway_TW5_sunny_FHD',\n",
       " 'Suwon_CH04_20201010_1818_SAT_9m_RH_highway_OW5_sunny_FHD',\n",
       " 'Suwon_CH02_20200720_2130_MON_9m_NH_highway_TW5_sunny_FHD']"
      ]
     },
     "execution_count": 17,
     "metadata": {},
     "output_type": "execute_result"
    }
   ],
   "source": [
    "val_img_dir"
   ]
  },
  {
   "cell_type": "code",
   "execution_count": 18,
   "id": "55841a90-80b5-431e-a067-73a2e7dbabe3",
   "metadata": {
    "tags": []
   },
   "outputs": [],
   "source": [
    "xml_path = './datasets/valid/xml/'\n",
    "\n",
    "val_xml_dir = os.listdir(xml_path)"
   ]
  },
  {
   "cell_type": "code",
   "execution_count": 19,
   "id": "063f9853-fcdf-44d0-9656-f07888459bd4",
   "metadata": {
    "tags": []
   },
   "outputs": [
    {
     "data": {
      "text/plain": [
       "'Suwon_CH04_20201012_1838_MON_9m_RH_highway_OW5_sunny_FHD.xml'"
      ]
     },
     "execution_count": 19,
     "metadata": {},
     "output_type": "execute_result"
    }
   ],
   "source": [
    "val_xml_dir[0]"
   ]
  },
  {
   "cell_type": "code",
   "execution_count": 20,
   "id": "9ebdb6e0-003a-4ad8-a0b2-a420448472df",
   "metadata": {
    "tags": []
   },
   "outputs": [
    {
     "data": {
      "text/plain": [
       "'Suwon_CH04_20200721_1830_TUE_9m_RH_highway_OW5_sunny_FHD'"
      ]
     },
     "execution_count": 20,
     "metadata": {},
     "output_type": "execute_result"
    }
   ],
   "source": [
    "val_img_dir[0]"
   ]
  },
  {
   "cell_type": "code",
   "execution_count": 21,
   "id": "4d85ab54-e9d8-4b3d-8768-35e12d064f0b",
   "metadata": {
    "tags": []
   },
   "outputs": [
    {
     "data": {
      "text/plain": [
       "['Suwon_CH04_20201012_1838_MON_9m_RH_highway_OW5_sunny_FHD.xml',\n",
       " 'Suwon_CH04_20200722_1600_WED_9m_NH_highway_OW5_rainy_FHD.xml',\n",
       " 'Suwon_CH08_20200722_1500_WED_9m_NH_highway_OW5_rainy_FHD.xml',\n",
       " 'Suwon_CH05_20200722_1430_WED_9m_NH_highway_OW5_rainy_FHD.xml',\n",
       " 'Suwon_CH03_20201012_1933_MON_9m_RH_highway_OW5_sunny_FHD.xml']"
      ]
     },
     "execution_count": 21,
     "metadata": {},
     "output_type": "execute_result"
    }
   ],
   "source": [
    "val_xml_dir[:5]"
   ]
  },
  {
   "cell_type": "code",
   "execution_count": 22,
   "id": "9a64f096-0466-40de-aadc-7480787a2246",
   "metadata": {
    "tags": []
   },
   "outputs": [
    {
     "data": {
      "text/plain": [
       "'Suwon_CH04_20201012_1838_MON_9m_RH_highway_OW5_sunny_FHD.xml'"
      ]
     },
     "execution_count": 22,
     "metadata": {},
     "output_type": "execute_result"
    }
   ],
   "source": [
    "val_xml_dir[0]"
   ]
  },
  {
   "cell_type": "code",
   "execution_count": 25,
   "id": "52d47f04-96f2-4aad-aaf1-aadbfafaa7b6",
   "metadata": {
    "tags": []
   },
   "outputs": [
    {
     "name": "stdout",
     "output_type": "stream",
     "text": [
      "4 일치\n",
      "16 일치\n",
      "10 일치\n",
      "2 일치\n",
      "14 일치\n",
      "18 일치\n",
      "1 일치\n",
      "15 일치\n",
      "6 일치\n",
      "12 일치\n",
      "8 일치\n",
      "11 일치\n",
      "0 일치\n",
      "7 일치\n",
      "17 일치\n",
      "19 일치\n",
      "3 일치\n",
      "13 일치\n",
      "5 일치\n"
     ]
    }
   ],
   "source": [
    "for _ in val_xml_dir:\n",
    "    if _ == val_img_dir[0] + '.xml':\n",
    "        print('0 일치')\n",
    "    elif  _ == val_img_dir[1] + '.xml':\n",
    "        print('1 일치')\n",
    "    elif  _ == val_img_dir[2] + '.xml':\n",
    "        print('2 일치')\n",
    "    elif  _ == val_img_dir[3] + '.xml':\n",
    "        print('3 일치')\n",
    "    elif  _ == val_img_dir[4] + '.xml':\n",
    "        print('4 일치')\n",
    "    elif  _ == val_img_dir[5] + '.xml':\n",
    "        print('5 일치')\n",
    "    elif  _ == val_img_dir[6] + '.xml':\n",
    "        print('6 일치')\n",
    "    elif  _ == val_img_dir[7] + '.xml':\n",
    "        print('7 일치')\n",
    "    elif  _ == val_img_dir[8] + '.xml':\n",
    "        print('8 일치')\n",
    "    elif _  == val_img_dir[8] + '.xml':\n",
    "        print('9 일치')\n",
    "    elif _  == val_img_dir[10] + '.xml':\n",
    "        print('10 일치')\n",
    "    elif _  == val_img_dir[11] + '.xml':\n",
    "        print('11 일치')\n",
    "    elif _  == val_img_dir[12] + '.xml':\n",
    "        print('12 일치')\n",
    "    elif _  == val_img_dir[13] + '.xml':\n",
    "        print('13 일치')\n",
    "    elif _  == val_img_dir[14] + '.xml':\n",
    "        print('14 일치')\n",
    "    elif _  == val_img_dir[15] + '.xml':\n",
    "        print('15 일치')\n",
    "    elif _  == val_img_dir[16] + '.xml':\n",
    "        print('16 일치')\n",
    "    elif _  == val_img_dir[17] + '.xml':\n",
    "        print('17 일치')\n",
    "    elif _  == val_img_dir[18] + '.xml':\n",
    "        print('18 일치')\n",
    "    elif _  == val_img_dir[19] + '.xml':\n",
    "        print('19 일치')\n",
    "    else :\n",
    "        os.remove(xml_path + _)"
   ]
  },
  {
   "cell_type": "markdown",
   "id": "aacd46ad",
   "metadata": {},
   "source": [
    "### 여기서 폴더 이동하면서 이동 전 폴더 삭제"
   ]
  },
  {
   "cell_type": "code",
   "execution_count": 26,
   "id": "e1d09acc-ab0e-4ba3-8a6d-3e3f0f46b240",
   "metadata": {
    "tags": []
   },
   "outputs": [],
   "source": [
    "orig_path = './datasets/valid/images/BB_01수도권영동선_Validation_image/Suwon_CH01_20200720_1830_MON_9m_RH_highway_TW5_sunny_FHD/'\n",
    "remove_path = './datasets/valid/images/'\n",
    "\n",
    "file = os.listdir(orig_path)\n",
    "for _ in file:\n",
    "    os.rename(orig_path + _, remove_path + _)"
   ]
  },
  {
   "cell_type": "code",
   "execution_count": 27,
   "id": "1508929e-6ad1-42d9-85ae-9a35f62ec922",
   "metadata": {
    "tags": []
   },
   "outputs": [],
   "source": [
    "orig_path = './datasets/valid/images/BB_01수도권영동선_Validation_image/Suwon_CH01_20200721_1700_TUE_9m_RH_highway_TW5_sunny_FHD/'\n",
    "remove_path = './datasets/valid/images/'\n",
    "\n",
    "file = os.listdir(orig_path)\n",
    "for _ in file:\n",
    "    os.rename(orig_path + _, remove_path + _)"
   ]
  },
  {
   "cell_type": "code",
   "execution_count": 28,
   "id": "bbdc7198-e005-474e-b84d-c91f31c94896",
   "metadata": {
    "tags": []
   },
   "outputs": [],
   "source": [
    "orig_path = './datasets/valid/images/BB_01수도권영동선_Validation_image/Suwon_CH01_20200722_1430_WED_9m_NH_highway_TW5_rainy_FHD/'\n",
    "remove_path = './datasets/valid/images/'\n",
    "\n",
    "file = os.listdir(orig_path)\n",
    "for _ in file:\n",
    "    os.rename(orig_path + _, remove_path + _)"
   ]
  },
  {
   "cell_type": "code",
   "execution_count": 29,
   "id": "fa0de661-fee6-4eaa-887c-1e04fc02eb81",
   "metadata": {
    "tags": []
   },
   "outputs": [],
   "source": [
    "orig_path = './datasets/valid/images/BB_01수도권영동선_Validation_image/Suwon_CH01_20200722_1930_WED_9m_NH_highway_TW5_sunny_FHD/'\n",
    "remove_path = './datasets/valid/images/'\n",
    "\n",
    "file = os.listdir(orig_path)\n",
    "for _ in file:\n",
    "    os.rename(orig_path + _, remove_path + _)"
   ]
  },
  {
   "cell_type": "code",
   "execution_count": 30,
   "id": "37923f0d-97de-4b27-9da8-e902f9d8923d",
   "metadata": {
    "tags": []
   },
   "outputs": [
    {
     "ename": "FileNotFoundError",
     "evalue": "[Errno 2] No such file or directory: './datasets/valid/images/BB_01수도권영동선_Validation_image/Suwon_CH01_20201012_1723_MON_9m_RH_highway_TW5_sunny_FHD/'",
     "output_type": "error",
     "traceback": [
      "\u001b[0;31m---------------------------------------------------------------------------\u001b[0m",
      "\u001b[0;31mFileNotFoundError\u001b[0m                         Traceback (most recent call last)",
      "Cell \u001b[0;32mIn[30], line 4\u001b[0m\n\u001b[1;32m      1\u001b[0m orig_path \u001b[38;5;241m=\u001b[39m \u001b[38;5;124m'\u001b[39m\u001b[38;5;124m./datasets/valid/images/BB_01수도권영동선_Validation_image/Suwon_CH01_20201012_1723_MON_9m_RH_highway_TW5_sunny_FHD/\u001b[39m\u001b[38;5;124m'\u001b[39m\n\u001b[1;32m      2\u001b[0m remove_path \u001b[38;5;241m=\u001b[39m \u001b[38;5;124m'\u001b[39m\u001b[38;5;124m./datasets/valid/images/\u001b[39m\u001b[38;5;124m'\u001b[39m\n\u001b[0;32m----> 4\u001b[0m file \u001b[38;5;241m=\u001b[39m \u001b[43mos\u001b[49m\u001b[38;5;241;43m.\u001b[39;49m\u001b[43mlistdir\u001b[49m\u001b[43m(\u001b[49m\u001b[43morig_path\u001b[49m\u001b[43m)\u001b[49m\n\u001b[1;32m      5\u001b[0m \u001b[38;5;28;01mfor\u001b[39;00m _ \u001b[38;5;129;01min\u001b[39;00m file:\n\u001b[1;32m      6\u001b[0m     os\u001b[38;5;241m.\u001b[39mrename(orig_path \u001b[38;5;241m+\u001b[39m _, remove_path \u001b[38;5;241m+\u001b[39m _)\n",
      "\u001b[0;31mFileNotFoundError\u001b[0m: [Errno 2] No such file or directory: './datasets/valid/images/BB_01수도권영동선_Validation_image/Suwon_CH01_20201012_1723_MON_9m_RH_highway_TW5_sunny_FHD/'"
     ]
    }
   ],
   "source": [
    "orig_path = './datasets/valid/images/BB_01수도권영동선_Validation_image/Suwon_CH01_20201012_1723_MON_9m_RH_highway_TW5_sunny_FHD/'\n",
    "remove_path = './datasets/valid/images/'\n",
    "\n",
    "file = os.listdir(orig_path)\n",
    "for _ in file:\n",
    "    os.rename(orig_path + _, remove_path + _)"
   ]
  },
  {
   "cell_type": "code",
   "execution_count": 31,
   "id": "96e32ff2-ee44-4d95-8e53-05d92bd6142f",
   "metadata": {
    "tags": []
   },
   "outputs": [],
   "source": [
    "orig_path = './datasets/valid/images/BB_01수도권영동선_Validation_image/Suwon_CH02_20200720_2130_MON_9m_NH_highway_TW5_sunny_FHD/'\n",
    "remove_path = './datasets/valid/images/'\n",
    "\n",
    "file = os.listdir(orig_path)\n",
    "for _ in file:\n",
    "    os.rename(orig_path + _, remove_path + _)"
   ]
  },
  {
   "cell_type": "code",
   "execution_count": 32,
   "id": "a2749665-5452-4fb8-bcb9-e151bd695ada",
   "metadata": {
    "tags": []
   },
   "outputs": [],
   "source": [
    "orig_path = './datasets/valid/images/BB_01수도권영동선_Validation_image/Suwon_CH02_20200721_2030_TUE_9m_NH_highway_TW5_sunny_FHD/'\n",
    "remove_path = './datasets/valid/images/'\n",
    "\n",
    "file = os.listdir(orig_path)\n",
    "for _ in file:\n",
    "    os.rename(orig_path + _, remove_path + _)"
   ]
  },
  {
   "cell_type": "code",
   "execution_count": 33,
   "id": "08a0f9f8-854a-4fb5-8f29-128f4a0cdd8d",
   "metadata": {
    "tags": []
   },
   "outputs": [],
   "source": [
    "orig_path = './datasets/valid/images/BB_01수도권영동선_Validation_image/Suwon_CH02_20200722_1730_WED_9m_NH_highway_TW5_sunny_FHD/'\n",
    "remove_path = './datasets/valid/images/'\n",
    "\n",
    "file = os.listdir(orig_path)\n",
    "for _ in file:\n",
    "    os.rename(orig_path + _, remove_path + _)"
   ]
  },
  {
   "cell_type": "code",
   "execution_count": 34,
   "id": "70492b1b-85d7-4a87-a77e-f8d953d0792a",
   "metadata": {
    "tags": []
   },
   "outputs": [],
   "source": [
    "orig_path = './datasets/valid/images/BB_01수도권영동선_Validation_image/Suwon_CH02_20201011_1806_SUN_9m_RH_highway_TW5_sunny_FHD/'\n",
    "remove_path = './datasets/valid/images/'\n",
    "\n",
    "file = os.listdir(orig_path)\n",
    "for _ in file:\n",
    "    os.rename(orig_path + _, remove_path + _)"
   ]
  },
  {
   "cell_type": "code",
   "execution_count": 35,
   "id": "0217b3bf-ec18-407b-9e45-9a96d67b25ba",
   "metadata": {
    "tags": []
   },
   "outputs": [],
   "source": [
    "orig_path = './datasets/valid/images/BB_01수도권영동선_Validation_image/Suwon_CH02_20201213_0933_SUN_9m_NH_highway_TW5_snow_FHD/'\n",
    "remove_path = './datasets/valid/images/'\n",
    "\n",
    "file = os.listdir(orig_path)\n",
    "for _ in file:\n",
    "    os.rename(orig_path + _, remove_path + _)"
   ]
  },
  {
   "cell_type": "code",
   "execution_count": 36,
   "id": "022bdc20-6919-4d0a-8e21-af176afb3b41",
   "metadata": {
    "tags": []
   },
   "outputs": [],
   "source": [
    "orig_path = './datasets/valid/images/BB_01수도권영동선_Validation_image/Suwon_CH03_20200720_2030_MON_9m_NH_highway_OW5_sunny_FHD/'\n",
    "remove_path = './datasets/valid/images/'\n",
    "\n",
    "file = os.listdir(orig_path)\n",
    "for _ in file:\n",
    "    os.rename(orig_path + _, remove_path + _)"
   ]
  },
  {
   "cell_type": "code",
   "execution_count": 37,
   "id": "a07e09dc-8d13-4f70-9b81-638ade26a2ab",
   "metadata": {
    "tags": []
   },
   "outputs": [],
   "source": [
    "orig_path = './datasets/valid/images/BB_01수도권영동선_Validation_image/Suwon_CH03_20200721_2000_TUE_9m_NH_highway_OW5_sunny_FHD/'\n",
    "remove_path = './datasets/valid/images/'\n",
    "\n",
    "file = os.listdir(orig_path)\n",
    "for _ in file:\n",
    "    os.rename(orig_path + _, remove_path + _)"
   ]
  },
  {
   "cell_type": "code",
   "execution_count": 38,
   "id": "24f93b7b-ee73-44b7-ba6d-1f8e6c97b1d0",
   "metadata": {
    "tags": []
   },
   "outputs": [],
   "source": [
    "orig_path = './datasets/valid/images/BB_01수도권영동선_Validation_image/Suwon_CH03_20200722_1700_WED_9m_NH_highway_OW5_sunny_FHD/'\n",
    "remove_path = './datasets/valid/images/'\n",
    "\n",
    "file = os.listdir(orig_path)\n",
    "for _ in file:\n",
    "    os.rename(orig_path + _, remove_path + _)"
   ]
  },
  {
   "cell_type": "code",
   "execution_count": 39,
   "id": "9ad7c146-7db8-4ae1-9469-42bea5788d70",
   "metadata": {
    "tags": []
   },
   "outputs": [],
   "source": [
    "orig_path = './datasets/valid/images/BB_01수도권영동선_Validation_image/Suwon_CH03_20201011_1742_SUN_9m_RH_highway_OW5_sunny_FHD/'\n",
    "remove_path = './datasets/valid/images/'\n",
    "\n",
    "file = os.listdir(orig_path)\n",
    "for _ in file:\n",
    "    os.rename(orig_path + _, remove_path + _)"
   ]
  },
  {
   "cell_type": "code",
   "execution_count": 40,
   "id": "b6f2b095-3557-4bc7-9c64-75b3ff018fe2",
   "metadata": {
    "tags": []
   },
   "outputs": [],
   "source": [
    "orig_path = './datasets/valid/images/BB_01수도권영동선_Validation_image/Suwon_CH03_20201012_1933_MON_9m_RH_highway_OW5_sunny_FHD/'\n",
    "remove_path = './datasets/valid/images/'\n",
    "\n",
    "file = os.listdir(orig_path)\n",
    "for _ in file:\n",
    "    os.rename(orig_path + _, remove_path + _)"
   ]
  },
  {
   "cell_type": "code",
   "execution_count": 41,
   "id": "9759e27c-2cc8-46c2-8deb-29c2d309f2d7",
   "metadata": {
    "tags": []
   },
   "outputs": [],
   "source": [
    "orig_path = './datasets/valid/images/BB_01수도권영동선_Validation_image/Suwon_CH04_20200720_1830_MON_9m_NH_highway_OW5_sunny_FHD/'\n",
    "remove_path = './datasets/valid/images/'\n",
    "\n",
    "file = os.listdir(orig_path)\n",
    "for _ in file:\n",
    "    os.rename(orig_path + _, remove_path + _)"
   ]
  },
  {
   "cell_type": "code",
   "execution_count": 42,
   "id": "3b978a60-142a-4524-8c57-9083ad2f7581",
   "metadata": {
    "tags": []
   },
   "outputs": [],
   "source": [
    "orig_path = './datasets/valid/images/BB_01수도권영동선_Validation_image/Suwon_CH04_20200721_1830_TUE_9m_RH_highway_OW5_sunny_FHD/'\n",
    "remove_path = './datasets/valid/images/'\n",
    "\n",
    "file = os.listdir(orig_path)\n",
    "for _ in file:\n",
    "    os.rename(orig_path + _, remove_path + _)"
   ]
  },
  {
   "cell_type": "code",
   "execution_count": 43,
   "id": "397fabc5-8420-45e9-8c2e-227d4b0d63c5",
   "metadata": {
    "tags": []
   },
   "outputs": [],
   "source": [
    "orig_path = './datasets/valid/images/BB_01수도권영동선_Validation_image/Suwon_CH04_20200722_1600_WED_9m_NH_highway_OW5_rainy_FHD/'\n",
    "remove_path = './datasets/valid/images/'\n",
    "\n",
    "file = os.listdir(orig_path)\n",
    "for _ in file:\n",
    "    os.rename(orig_path + _, remove_path + _)"
   ]
  },
  {
   "cell_type": "code",
   "execution_count": 44,
   "id": "d6d00661-e697-42b5-a82d-6416caa182f7",
   "metadata": {
    "tags": []
   },
   "outputs": [],
   "source": [
    "orig_path = './datasets/valid/images/BB_01수도권영동선_Validation_image/Suwon_CH04_20201010_1818_SAT_9m_RH_highway_OW5_sunny_FHD/'\n",
    "remove_path = './datasets/valid/images/'\n",
    "\n",
    "file = os.listdir(orig_path)\n",
    "for _ in file:\n",
    "    os.rename(orig_path + _, remove_path + _)"
   ]
  },
  {
   "cell_type": "code",
   "execution_count": 45,
   "id": "a512bf81-5d7b-427b-a511-28f2b0456617",
   "metadata": {
    "tags": []
   },
   "outputs": [],
   "source": [
    "orig_path = './datasets/valid/images/BB_01수도권영동선_Validation_image/Suwon_CH04_20201012_1838_MON_9m_RH_highway_OW5_sunny_FHD/'\n",
    "remove_path = './datasets/valid/images/'\n",
    "\n",
    "file = os.listdir(orig_path)\n",
    "for _ in file:\n",
    "    os.rename(orig_path + _, remove_path + _)"
   ]
  },
  {
   "cell_type": "markdown",
   "id": "efc3a398",
   "metadata": {},
   "source": [
    "이동 시키고 남은 폴더 삭제"
   ]
  },
  {
   "cell_type": "code",
   "execution_count": 46,
   "id": "e7e6cd5c-b092-4567-8e10-152bc3416ac2",
   "metadata": {
    "tags": []
   },
   "outputs": [],
   "source": [
    "shutil.rmtree('./datasets/valid/images/BB_01수도권영동선_Validation_image')"
   ]
  },
  {
   "cell_type": "code",
   "execution_count": 48,
   "id": "67eec4cc-31c8-45df-b9f6-2af59bf4fada",
   "metadata": {
    "tags": []
   },
   "outputs": [
    {
     "data": {
      "text/plain": [
       "['Suwon_CH04_20201012_1838_MON_9m_RH_highway_OW5_sunny_FHD.xml',\n",
       " 'Suwon_CH04_20200722_1600_WED_9m_NH_highway_OW5_rainy_FHD.xml',\n",
       " 'Suwon_CH03_20201012_1933_MON_9m_RH_highway_OW5_sunny_FHD.xml',\n",
       " 'Suwon_CH03_20200722_1700_WED_9m_NH_highway_OW5_sunny_FHD.xml',\n",
       " 'Suwon_CH02_20201213_0933_SUN_9m_NH_highway_TW5_snow_FHD.xml',\n",
       " 'Suwon_CH04_20201010_1818_SAT_9m_RH_highway_OW5_sunny_FHD.xml',\n",
       " 'Suwon_CH03_20201011_1742_SUN_9m_RH_highway_OW5_sunny_FHD.xml',\n",
       " 'Suwon_CH01_20200722_1430_WED_9m_NH_highway_TW5_rainy_FHD.xml',\n",
       " 'Suwon_CH02_20200721_2030_TUE_9m_NH_highway_TW5_sunny_FHD.xml',\n",
       " 'Suwon_CH03_20200720_2030_MON_9m_NH_highway_OW5_sunny_FHD.xml',\n",
       " 'Suwon_CH02_20201011_1806_SUN_9m_RH_highway_TW5_sunny_FHD.xml',\n",
       " 'Suwon_CH03_20200721_2000_TUE_9m_NH_highway_OW5_sunny_FHD.xml',\n",
       " 'Suwon_CH04_20200721_1830_TUE_9m_RH_highway_OW5_sunny_FHD.xml',\n",
       " 'Suwon_CH01_20201213_1200_SUN_9m_NH_highway_TW5_snow_FHD.xml',\n",
       " 'Suwon_CH02_20200722_1730_WED_9m_NH_highway_TW5_sunny_FHD.xml',\n",
       " 'Suwon_CH02_20200720_2130_MON_9m_NH_highway_TW5_sunny_FHD.xml',\n",
       " 'Suwon_CH01_20200721_1700_TUE_9m_RH_highway_TW5_sunny_FHD.xml',\n",
       " 'Suwon_CH01_20200722_1930_WED_9m_NH_highway_TW5_sunny_FHD.xml',\n",
       " 'Suwon_CH01_20200720_1830_MON_9m_RH_highway_TW5_sunny_FHD.xml']"
      ]
     },
     "execution_count": 48,
     "metadata": {},
     "output_type": "execute_result"
    }
   ],
   "source": [
    "os.listdir('./datasets/valid/xml/')"
   ]
  },
  {
   "cell_type": "code",
   "execution_count": null,
   "id": "8aa1c325-b9c6-42b0-8c0d-ba0d32d38183",
   "metadata": {},
   "outputs": [],
   "source": []
  }
 ],
 "metadata": {
  "environment": {
   "kernel": "python3",
   "name": ".m113",
   "type": "gcloud",
   "uri": "gcr.io/deeplearning-platform-release/:m113"
  },
  "kernelspec": {
   "display_name": "Python 3",
   "language": "python",
   "name": "python3"
  },
  "language_info": {
   "codemirror_mode": {
    "name": "ipython",
    "version": 3
   },
   "file_extension": ".py",
   "mimetype": "text/x-python",
   "name": "python",
   "nbconvert_exporter": "python",
   "pygments_lexer": "ipython3",
   "version": "3.10.13"
  }
 },
 "nbformat": 4,
 "nbformat_minor": 5
}
