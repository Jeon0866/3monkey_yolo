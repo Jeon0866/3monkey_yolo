{
 "cells": [
  {
   "cell_type": "markdown",
   "id": "3d9d92a2",
   "metadata": {},
   "source": [
    "# Train 데이터 옮기기 (현재 기준 Train 채널 1 ~ 4)\n",
    "- 저장소 부족할 때 : shutil.move()\n",
    "- 저장소 여유로울 때 : shutil.copytree()"
   ]
  },
  {
   "cell_type": "code",
   "execution_count": 1,
   "id": "20bbf33d-b67d-4003-83b6-6661f1020f6a",
   "metadata": {
    "tags": []
   },
   "outputs": [],
   "source": [
    "import os, shutil\n",
    "import numpy as np\n",
    "import pandas as pd"
   ]
  },
  {
   "cell_type": "code",
   "execution_count": 2,
   "id": "d0aaece2-8c15-446e-a153-862110f40727",
   "metadata": {
    "tags": []
   },
   "outputs": [
    {
     "data": {
      "text/plain": [
       "['Suwon_CH01_20200721_1530_TUE_9m_NH_highway_TW5_sunny_FHD',\n",
       " 'Suwon_CH04_20200721_1700_TUE_9m_RH_highway_OW5_sunny_FHD',\n",
       " 'Suwon_CH03_20200722_1400_WED_9m_NH_highway_OW5_rainy_FHD',\n",
       " 'Suwon_CH02_20200721_2130_TUE_9m_NH_highway_TW5_sunny_FHD',\n",
       " 'Suwon_CH01_20200722_1330_WED_9m_NH_highway_TW5_rainy_FHD']"
      ]
     },
     "execution_count": 2,
     "metadata": {},
     "output_type": "execute_result"
    }
   ],
   "source": [
    "train_img = './datasets/train/image/'\n",
    "train_list = os.listdir(train_img)\n",
    "train_list[:5]"
   ]
  },
  {
   "cell_type": "code",
   "execution_count": 3,
   "id": "c6b9b97c-008b-4041-b208-605d0cd56026",
   "metadata": {
    "tags": []
   },
   "outputs": [],
   "source": [
    "ch01_ch04 = []"
   ]
  },
  {
   "cell_type": "code",
   "execution_count": 4,
   "id": "9931a336-2a17-4a51-84ba-5d645bbe6299",
   "metadata": {
    "tags": []
   },
   "outputs": [],
   "source": [
    "for _ in range(0, len(train_list)):\n",
    "    file = train_list[_]\n",
    "    if train_list[_].split('_')[1] == 'CH01' or train_list[_].split('_')[1] == 'CH02' or train_list[_].split('_')[1] == 'CH03' or train_list[_].split('_')[1] == 'CH04':\n",
    "        ch01_ch04.append(file)"
   ]
  },
  {
   "cell_type": "code",
   "execution_count": 5,
   "id": "c56008f9-3fe9-457f-a3e0-5a89eb08c9a2",
   "metadata": {
    "tags": []
   },
   "outputs": [
    {
     "data": {
      "text/plain": [
       "168"
      ]
     },
     "execution_count": 5,
     "metadata": {},
     "output_type": "execute_result"
    }
   ],
   "source": [
    "len(ch01_ch04)"
   ]
  },
  {
   "cell_type": "code",
   "execution_count": 6,
   "id": "5623d893-118a-437d-8637-ee0b80769d2d",
   "metadata": {
    "tags": []
   },
   "outputs": [
    {
     "data": {
      "text/plain": [
       "['Suwon_CH01_20200721_1530_TUE_9m_NH_highway_TW5_sunny_FHD',\n",
       " 'Suwon_CH04_20200721_1700_TUE_9m_RH_highway_OW5_sunny_FHD',\n",
       " 'Suwon_CH03_20200722_1400_WED_9m_NH_highway_OW5_rainy_FHD',\n",
       " 'Suwon_CH02_20200721_2130_TUE_9m_NH_highway_TW5_sunny_FHD',\n",
       " 'Suwon_CH01_20200722_1330_WED_9m_NH_highway_TW5_rainy_FHD']"
      ]
     },
     "execution_count": 6,
     "metadata": {},
     "output_type": "execute_result"
    }
   ],
   "source": [
    "ch01_ch04[:5]"
   ]
  },
  {
   "cell_type": "markdown",
   "id": "f8169e80",
   "metadata": {},
   "source": [
    "### 파일 이동 -> 원본이동 이라 복사하실꺼면 shutil 말고 copy2로 진행"
   ]
  },
  {
   "cell_type": "code",
   "execution_count": 13,
   "id": "e477ebd1-d5c7-438d-bc89-840338ec51a8",
   "metadata": {
    "tags": []
   },
   "outputs": [],
   "source": [
    "# 파일 이동\n",
    "for _ in ch01_ch04:\n",
    "    to_path = './datasets/train/images/' + _\n",
    "    from_path = './datasets/train/image/' + _ \n",
    "    # 복사 할때\n",
    "    shutil.copytree(from_path, to_path)\n",
    "    # 원본 이동\n",
    "    # shutil.move(from_path, to_path)"
   ]
  },
  {
   "cell_type": "code",
   "execution_count": 14,
   "id": "85267009-2438-4205-93b2-c278ddf50187",
   "metadata": {
    "tags": []
   },
   "outputs": [
    {
     "data": {
      "text/plain": [
       "['Suwon_CH01_20200721_1530_TUE_9m_NH_highway_TW5_sunny_FHD',\n",
       " 'Suwon_CH04_20200721_1700_TUE_9m_RH_highway_OW5_sunny_FHD',\n",
       " 'Suwon_CH03_20200722_1400_WED_9m_NH_highway_OW5_rainy_FHD',\n",
       " 'Suwon_CH02_20200721_2130_TUE_9m_NH_highway_TW5_sunny_FHD',\n",
       " 'Suwon_CH01_20200722_1330_WED_9m_NH_highway_TW5_rainy_FHD']"
      ]
     },
     "execution_count": 14,
     "metadata": {},
     "output_type": "execute_result"
    }
   ],
   "source": [
    "path = './datasets/train/images'\n",
    "test = os.listdir(path)\n",
    "test[:5]"
   ]
  },
  {
   "cell_type": "code",
   "execution_count": 15,
   "id": "98069f81-6209-44db-9f8c-cc750d6dc79a",
   "metadata": {
    "tags": []
   },
   "outputs": [],
   "source": [
    "# 폴더 상위폴더로 이미지 옮기기\n",
    "for a in range(0 , len(test)):\n",
    "    orig_path = f'./datasets/train/images/{test[a]}/'\n",
    "    remove_path = './datasets/train/images/'\n",
    "    # print(orig_path)\n",
    "    file = os.listdir(orig_path)\n",
    "    for _ in file:\n",
    "        if os.path.exists(orig_path+_) == True:\n",
    "            shutil.move(orig_path + _, remove_path)\n",
    "        else:\n",
    "            pass"
   ]
  },
  {
   "cell_type": "code",
   "execution_count": 16,
   "id": "db10cc2d-6811-4786-9a00-9b78caac85d8",
   "metadata": {
    "tags": []
   },
   "outputs": [],
   "source": [
    "# 비어있는 폴더 삭제\n",
    "for _ in range(0 , len(test)):\n",
    "    drop_folder = './datasets/train/images/' + test[_]\n",
    "    shutil.rmtree(drop_folder)"
   ]
  },
  {
   "cell_type": "markdown",
   "metadata": {},
   "source": [
    "학습시 ./datasets/train/image 이미지 읽는 상황 발생"
   ]
  },
  {
   "cell_type": "code",
   "execution_count": null,
   "metadata": {},
   "outputs": [],
   "source": [
    "shutil.rmtree('./datasets/train/image/')"
   ]
  },
  {
   "cell_type": "markdown",
   "id": "3034f7d0-2959-4ae6-84e2-3f1d01576adb",
   "metadata": {},
   "source": [
    "# 검증 - Train"
   ]
  },
  {
   "cell_type": "code",
   "execution_count": 19,
   "id": "2930ba2f-1410-40b4-b990-aca449150303",
   "metadata": {
    "tags": []
   },
   "outputs": [
    {
     "data": {
      "text/plain": [
       "24101"
      ]
     },
     "execution_count": 19,
     "metadata": {},
     "output_type": "execute_result"
    }
   ],
   "source": [
    "# 이미지\n",
    "len(os.listdir('./datasets/train/images/'))"
   ]
  },
  {
   "cell_type": "code",
   "execution_count": 20,
   "id": "8c30c56b-1a79-45eb-b919-44f538e0eb47",
   "metadata": {
    "tags": []
   },
   "outputs": [
    {
     "data": {
      "text/plain": [
       "0"
      ]
     },
     "execution_count": 20,
     "metadata": {},
     "output_type": "execute_result"
    }
   ],
   "source": [
    "# txt 파일\n",
    "len(os.listdir('./datasets/train/labels/'))"
   ]
  },
  {
   "cell_type": "code",
   "execution_count": null,
   "id": "c887b5d4-333e-4f91-930c-1c2813dd06ad",
   "metadata": {},
   "outputs": [],
   "source": []
  }
 ],
 "metadata": {
  "environment": {
   "kernel": "python3",
   "name": ".m113",
   "type": "gcloud",
   "uri": "gcr.io/deeplearning-platform-release/:m113"
  },
  "kernelspec": {
   "display_name": "Python 3",
   "language": "python",
   "name": "python3"
  },
  "language_info": {
   "codemirror_mode": {
    "name": "ipython",
    "version": 3
   },
   "file_extension": ".py",
   "mimetype": "text/x-python",
   "name": "python",
   "nbconvert_exporter": "python",
   "pygments_lexer": "ipython3",
   "version": "3.10.13"
  }
 },
 "nbformat": 4,
 "nbformat_minor": 5
}
