{
 "cells": [
  {
   "cell_type": "code",
   "execution_count": 1,
   "id": "81fdc63b-e1a1-4ec1-9edc-982198f6dd31",
   "metadata": {
    "tags": []
   },
   "outputs": [],
   "source": [
    "from coco_to_yolo import yolov8\n",
    "import os"
   ]
  },
  {
   "cell_type": "code",
   "execution_count": 2,
   "id": "e72d8d04-4056-463d-a3ed-bf57f0c78c11",
   "metadata": {
    "tags": []
   },
   "outputs": [
    {
     "data": {
      "text/plain": [
       "['Suwon_CH04_20201012_1838_MON_9m_RH_highway_OW5_sunny_FHD.xml',\n",
       " 'Suwon_CH04_20200722_1600_WED_9m_NH_highway_OW5_rainy_FHD.xml',\n",
       " 'Suwon_CH03_20201012_1933_MON_9m_RH_highway_OW5_sunny_FHD.xml',\n",
       " 'Suwon_CH03_20200722_1700_WED_9m_NH_highway_OW5_sunny_FHD.xml',\n",
       " 'Suwon_CH02_20201213_0933_SUN_9m_NH_highway_TW5_snow_FHD.xml',\n",
       " 'Suwon_CH04_20201010_1818_SAT_9m_RH_highway_OW5_sunny_FHD.xml',\n",
       " 'Suwon_CH03_20201011_1742_SUN_9m_RH_highway_OW5_sunny_FHD.xml',\n",
       " 'Suwon_CH01_20200722_1430_WED_9m_NH_highway_TW5_rainy_FHD.xml',\n",
       " 'Suwon_CH02_20200721_2030_TUE_9m_NH_highway_TW5_sunny_FHD.xml',\n",
       " 'Suwon_CH03_20200720_2030_MON_9m_NH_highway_OW5_sunny_FHD.xml',\n",
       " 'Suwon_CH02_20201011_1806_SUN_9m_RH_highway_TW5_sunny_FHD.xml',\n",
       " 'Suwon_CH03_20200721_2000_TUE_9m_NH_highway_OW5_sunny_FHD.xml',\n",
       " 'Suwon_CH04_20200721_1830_TUE_9m_RH_highway_OW5_sunny_FHD.xml',\n",
       " 'Suwon_CH01_20201213_1200_SUN_9m_NH_highway_TW5_snow_FHD.xml',\n",
       " 'Suwon_CH02_20200722_1730_WED_9m_NH_highway_TW5_sunny_FHD.xml',\n",
       " 'Suwon_CH02_20200720_2130_MON_9m_NH_highway_TW5_sunny_FHD.xml',\n",
       " 'Suwon_CH01_20200721_1700_TUE_9m_RH_highway_TW5_sunny_FHD.xml',\n",
       " 'Suwon_CH01_20200722_1930_WED_9m_NH_highway_TW5_sunny_FHD.xml',\n",
       " 'Suwon_CH01_20200720_1830_MON_9m_RH_highway_TW5_sunny_FHD.xml']"
      ]
     },
     "execution_count": 2,
     "metadata": {},
     "output_type": "execute_result"
    }
   ],
   "source": [
    "xml_path = './datasets/valid/xml/'\n",
    "xml_list = os.listdir(xml_path)\n",
    "xml_list"
   ]
  },
  {
   "cell_type": "code",
   "execution_count": 3,
   "id": "e3a5d828-8401-4994-82d8-6cabf74ef438",
   "metadata": {
    "tags": []
   },
   "outputs": [],
   "source": [
    "save_path = './datasets/valid/labels/'"
   ]
  },
  {
   "cell_type": "code",
   "execution_count": 4,
   "id": "aa2ec837-805b-432d-ae77-bc5a3cda6dba",
   "metadata": {
    "tags": []
   },
   "outputs": [],
   "source": [
    "for _ in xml_list:\n",
    "    yolov8(xml_path + _, save_path)"
   ]
  },
  {
   "cell_type": "markdown",
   "id": "60cfc79f-4a99-45b5-b367-9acc141c0b8d",
   "metadata": {},
   "source": [
    "## 검증 - 파일 개수 확인"
   ]
  },
  {
   "cell_type": "code",
   "execution_count": 9,
   "id": "c4e3fbe2",
   "metadata": {
    "tags": []
   },
   "outputs": [
    {
     "name": "stdout",
     "output_type": "stream",
     "text": [
      "valid 라벨 텍스트 파일 개수 :  3034\n"
     ]
    }
   ],
   "source": [
    "# 검증\n",
    "print('valid 라벨 텍스트 파일 개수 : ', len(os.listdir('./datasets/valid/labels/')))"
   ]
  },
  {
   "cell_type": "code",
   "execution_count": 7,
   "id": "a5305e18-56aa-4eb9-a200-4ce28a939eeb",
   "metadata": {
    "tags": []
   },
   "outputs": [
    {
     "name": "stdout",
     "output_type": "stream",
     "text": [
      "이미지 파일 개수 :  2953\n"
     ]
    }
   ],
   "source": [
    "print('이미지 파일 개수 : ', len(os.listdir('./datasets/valid/images/')))"
   ]
  }
 ],
 "metadata": {
  "environment": {
   "kernel": "python3",
   "name": ".m113",
   "type": "gcloud",
   "uri": "gcr.io/deeplearning-platform-release/:m113"
  },
  "kernelspec": {
   "display_name": "Python 3",
   "language": "python",
   "name": "python3"
  },
  "language_info": {
   "codemirror_mode": {
    "name": "ipython",
    "version": 3
   },
   "file_extension": ".py",
   "mimetype": "text/x-python",
   "name": "python",
   "nbconvert_exporter": "python",
   "pygments_lexer": "ipython3",
   "version": "3.10.13"
  }
 },
 "nbformat": 4,
 "nbformat_minor": 5
}
