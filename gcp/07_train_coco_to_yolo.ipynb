{
 "cells": [
  {
   "cell_type": "markdown",
   "id": "be736244",
   "metadata": {},
   "source": [
    "# Train/images 폴더에 있는 이미지들 txt파일 생성"
   ]
  },
  {
   "cell_type": "code",
   "execution_count": 1,
   "id": "81fdc63b-e1a1-4ec1-9edc-982198f6dd31",
   "metadata": {
    "tags": []
   },
   "outputs": [],
   "source": [
    "from coco_to_yolo import yolov8\n",
    "import os, re\n",
    "import numpy as np"
   ]
  },
  {
   "cell_type": "code",
   "execution_count": 3,
   "id": "3d63622c-7d7a-4ecd-87ab-c863ca25faa0",
   "metadata": {
    "tags": []
   },
   "outputs": [
    {
     "data": {
      "text/plain": [
       "['Suwon_CH04_20201010_1748_SAT_9m_RH_highway_OW5_sunny_FHD_080.png',\n",
       " 'Suwon_CH02_20201213_1033_SUN_9m_NH_highway_TW5_snow_FHD_002.png',\n",
       " 'Suwon_CH01_20200720_2030_MON_9m_NH_highway_TW5_sunny_FHD_024.png',\n",
       " 'Suwon_CH01_20201213_0930_SUN_9m_NH_highway_TW5_snow_FHD_028.png',\n",
       " 'Suwon_CH04_20201010_1849_SAT_9m_NH_highway_OW5_sunny_FHD_062.png']"
      ]
     },
     "execution_count": 3,
     "metadata": {},
     "output_type": "execute_result"
    }
   ],
   "source": [
    "# 이미지 파일 총 개수 파악\n",
    "img_path = './datasets/train/images/'\n",
    "img_list = os.listdir(img_path)\n",
    "img_list[:5]"
   ]
  },
  {
   "cell_type": "code",
   "execution_count": 4,
   "id": "edfe1d7a-3273-4af9-a5a5-e451bb969508",
   "metadata": {
    "tags": []
   },
   "outputs": [
    {
     "data": {
      "text/plain": [
       "24101"
      ]
     },
     "execution_count": 4,
     "metadata": {},
     "output_type": "execute_result"
    }
   ],
   "source": [
    "len(img_list)"
   ]
  },
  {
   "cell_type": "code",
   "execution_count": 6,
   "id": "87a3010e-a98a-42ea-9c8d-d313671bb79c",
   "metadata": {
    "tags": []
   },
   "outputs": [],
   "source": [
    "# 이미지 파일명에서 '_숫자.png' 제거\n",
    "img_path = './datasets/train/images/'\n",
    "img_list = os.listdir(img_path)"
   ]
  },
  {
   "cell_type": "code",
   "execution_count": 7,
   "id": "45d7d118-dccd-463e-93b8-af6c9465c08d",
   "metadata": {
    "tags": []
   },
   "outputs": [],
   "source": [
    "result = []\n",
    "for _ in img_list:\n",
    "    a = _.split('.')[0]\n",
    "    a = a.split('_')[:-1]\n",
    "    result.append(\"_\".join(a))"
   ]
  },
  {
   "cell_type": "code",
   "execution_count": 8,
   "id": "21023ad1-e95a-4bbf-9362-31f5dddb5d7e",
   "metadata": {
    "tags": []
   },
   "outputs": [
    {
     "data": {
      "text/plain": [
       "24101"
      ]
     },
     "execution_count": 8,
     "metadata": {},
     "output_type": "execute_result"
    }
   ],
   "source": [
    "len(result)"
   ]
  },
  {
   "cell_type": "code",
   "execution_count": 9,
   "id": "f97d4d80-caa3-4eed-a096-548bf8b12930",
   "metadata": {
    "tags": []
   },
   "outputs": [
    {
     "data": {
      "text/plain": [
       "['Suwon_CH01_20200720_1700_MON_9m_NH_highway_TW5_sunny_FHD',\n",
       " 'Suwon_CH01_20200720_1730_MON_9m_NH_highway_TW5_sunny_FHD',\n",
       " 'Suwon_CH01_20200720_1800_MON_9m_NH_highway_TW5_sunny_FHD',\n",
       " 'Suwon_CH01_20200720_1900_MON_9m_RH_highway_TW5_sunny_FHD',\n",
       " 'Suwon_CH01_20200720_1930_MON_9m_NH_highway_TW5_sunny_FHD']"
      ]
     },
     "execution_count": 9,
     "metadata": {},
     "output_type": "execute_result"
    }
   ],
   "source": [
    "file_name = np.unique(result).tolist()\n",
    "file_name[:5]"
   ]
  },
  {
   "cell_type": "code",
   "execution_count": 10,
   "id": "c5ab339d-0c7e-439b-91eb-aafa66d7425a",
   "metadata": {
    "tags": []
   },
   "outputs": [
    {
     "data": {
      "text/plain": [
       "168"
      ]
     },
     "execution_count": 10,
     "metadata": {},
     "output_type": "execute_result"
    }
   ],
   "source": [
    "len(file_name)"
   ]
  },
  {
   "cell_type": "code",
   "execution_count": 23,
   "id": "e72d8d04-4056-463d-a3ed-bf57f0c78c11",
   "metadata": {
    "tags": []
   },
   "outputs": [
    {
     "data": {
      "text/plain": [
       "['Suwon_CH08_20201012_1755_MON_9m_RH_highway_OW5_sunny_FHD.xml',\n",
       " 'Suwon_CH01_20200720_1800_MON_9m_NH_highway_TW5_sunny_FHD.xml',\n",
       " 'Suwon_CH02_20200720_2000_MON_9m_NH_highway_TW5_sunny_FHD.xml',\n",
       " 'Suwon_CH09_20200720_1730_MON_9m_NH_highway_OW5_sunny_FHD.xml',\n",
       " 'Suwon_CH05_20200720_1900_MON_9m_NH_highway_OW5_sunny_FHD.xml']"
      ]
     },
     "execution_count": 23,
     "metadata": {},
     "output_type": "execute_result"
    }
   ],
   "source": [
    "xml_path = './dataset/train/xml/'\n",
    "xml_list = os.listdir(xml_path)\n",
    "xml_list[:5]"
   ]
  },
  {
   "cell_type": "code",
   "execution_count": 24,
   "id": "847bb290-acf0-4bf7-814e-8d3cdca6bb46",
   "metadata": {
    "tags": []
   },
   "outputs": [
    {
     "data": {
      "text/plain": [
       "405"
      ]
     },
     "execution_count": 24,
     "metadata": {},
     "output_type": "execute_result"
    }
   ],
   "source": [
    "len(xml_list)"
   ]
  },
  {
   "cell_type": "code",
   "execution_count": 11,
   "id": "560b75b8-9bb4-4b54-9a1d-4a0088cd9c10",
   "metadata": {
    "tags": []
   },
   "outputs": [
    {
     "name": "stdout",
     "output_type": "stream",
     "text": [
      "./datasets/train/xml/Suwon_CH01_20200720_1700_MON_9m_NH_highway_TW5_sunny_FHD.xml\n",
      "./datasets/train/xml/Suwon_CH01_20200720_1730_MON_9m_NH_highway_TW5_sunny_FHD.xml\n",
      "./datasets/train/xml/Suwon_CH01_20200720_1800_MON_9m_NH_highway_TW5_sunny_FHD.xml\n",
      "./datasets/train/xml/Suwon_CH01_20200720_1900_MON_9m_RH_highway_TW5_sunny_FHD.xml\n",
      "./datasets/train/xml/Suwon_CH01_20200720_1930_MON_9m_NH_highway_TW5_sunny_FHD.xml\n",
      "./datasets/train/xml/Suwon_CH01_20200720_2000_MON_9m_NH_highway_TW5_sunny_FHD.xml\n",
      "./datasets/train/xml/Suwon_CH01_20200720_2030_MON_9m_NH_highway_TW5_sunny_FHD.xml\n",
      "./datasets/train/xml/Suwon_CH01_20200721_1500_TUE_9m_NH_highway_TW5_sunny_FHD.xml\n",
      "./datasets/train/xml/Suwon_CH01_20200721_1530_TUE_9m_NH_highway_TW5_sunny_FHD.xml\n",
      "./datasets/train/xml/Suwon_CH01_20200721_1600_TUE_9m_NH_highway_TW5_sunny_FHD.xml\n",
      "./datasets/train/xml/Suwon_CH01_20200721_1630_TUE_9m_NH_highway_TW5_sunny_FHD.xml\n",
      "./datasets/train/xml/Suwon_CH01_20200721_1730_TUE_9m_RH_highway_TW5_sunny_FHD.xml\n",
      "./datasets/train/xml/Suwon_CH01_20200721_1800_TUE_9m_RH_highway_TW5_sunny_FHD.xml\n",
      "./datasets/train/xml/Suwon_CH01_20200721_1900_TUE_9m_RH_highway_TW5_sunny_FHD.xml\n",
      "./datasets/train/xml/Suwon_CH01_20200721_1930_TUE_9m_RH_highway_TW5_sunny_FHD.xml\n",
      "./datasets/train/xml/Suwon_CH01_20200721_2030_TUE_9m_NH_highway_TW5_sunny_FHD.xml\n",
      "./datasets/train/xml/Suwon_CH01_20200721_2100_TUE_9m_NH_highway_TW5_sunny_FHD.xml\n",
      "./datasets/train/xml/Suwon_CH01_20200722_1330_WED_9m_NH_highway_TW5_rainy_FHD.xml\n",
      "./datasets/train/xml/Suwon_CH01_20200722_1400_WED_9m_NH_highway_TW5_rainy_FHD.xml\n",
      "./datasets/train/xml/Suwon_CH01_20200722_1500_WED_9m_NH_highway_TW5_rainy_FHD.xml\n",
      "./datasets/train/xml/Suwon_CH01_20200722_1530_WED_9m_NH_highway_TW5_rainy_FHD.xml\n",
      "./datasets/train/xml/Suwon_CH01_20200722_1600_WED_9m_RH_highway_TW5_rainy_FHD.xml\n",
      "./datasets/train/xml/Suwon_CH01_20200722_1630_WED_9m_RH_highway_TW5_sunny_FHD.xml\n",
      "./datasets/train/xml/Suwon_CH01_20200722_1730_WED_9m_RH_highway_TW5_sunny_FHD.xml\n",
      "./datasets/train/xml/Suwon_CH01_20200722_1800_WED_9m_RH_highway_TW5_sunny_FHD.xml\n",
      "./datasets/train/xml/Suwon_CH01_20200722_1830_WED_9m_RH_highway_TW5_sunny_FHD.xml\n",
      "./datasets/train/xml/Suwon_CH01_20200722_1900_WED_9m_RH_highway_TW5_sunny_FHD.xml\n",
      "./datasets/train/xml/Suwon_CH01_20201010_1730_SAT_9m_RH_highway_TW5_sunny_FHD.xml\n",
      "./datasets/train/xml/Suwon_CH01_20201010_1800_SAT_9m_RH_highway_TW5_sunny_FHD.xml\n",
      "./datasets/train/xml/Suwon_CH01_20201010_1830_SAT_9m_RH_highway_TW5_sunny_FHD.xml\n",
      "./datasets/train/xml/Suwon_CH01_20201010_1900_SAT_9m_NH_highway_TW5_sunny_FHD.xml\n",
      "./datasets/train/xml/Suwon_CH01_20201011_1800_SUN_9m_RH_highway_TW5_sunny_FHD.xml\n",
      "./datasets/train/xml/Suwon_CH01_20201011_1830_SUN_9m_RH_highway_TW5_sunny_FHD.xml\n",
      "./datasets/train/xml/Suwon_CH01_20201011_1900_SUN_9m_RH_highway_TW5_sunny_FHD.xml\n",
      "./datasets/train/xml/Suwon_CH01_20201012_1653_MON_9m_RH_highway_TW5_sunny_FHD.xml\n",
      "./datasets/train/xml/Suwon_CH01_20201012_1753_MON_9m_RH_highway_TW5_sunny_FHD.xml\n",
      "./datasets/train/xml/Suwon_CH01_20201012_1823_MON_9m_RH_highway_TW5_sunny_FHD.xml\n",
      "./datasets/train/xml/Suwon_CH01_20201012_1853_MON_9m_RH_highway_TW5_sunny_FHD.xml\n",
      "./datasets/train/xml/Suwon_CH01_20201012_1923_MON_9m_RH_highway_TW5_sunny_FHD.xml\n",
      "./datasets/train/xml/Suwon_CH01_20201213_0700_SUN_9m_NH_highway_TW5_snow_FHD.xml\n",
      "./datasets/train/xml/Suwon_CH01_20201213_0730_SUN_9m_NH_highway_TW5_snow_FHD.xml\n",
      "./datasets/train/xml/Suwon_CH01_20201213_0930_SUN_9m_NH_highway_TW5_snow_FHD.xml\n",
      "./datasets/train/xml/Suwon_CH01_20201213_1030_SUN_9m_NH_highway_TW5_snow_FHD.xml\n",
      "./datasets/train/xml/Suwon_CH02_20200720_1600_MON_9m_NH_highway_TW5_sunny_FHD.xml\n",
      "./datasets/train/xml/Suwon_CH02_20200720_1630_MON_9m_NH_highway_TW5_sunny_FHD.xml\n",
      "./datasets/train/xml/Suwon_CH02_20200720_1700_MON_9m_NH_highway_TW5_sunny_FHD.xml\n",
      "./datasets/train/xml/Suwon_CH02_20200720_1730_MON_9m_NH_highway_TW5_sunny_FHD.xml\n",
      "./datasets/train/xml/Suwon_CH02_20200720_1830_MON_9m_NH_highway_TW5_sunny_FHD.xml\n",
      "./datasets/train/xml/Suwon_CH02_20200720_1900_MON_9m_NH_highway_TW5_sunny_FHD.xml\n",
      "./datasets/train/xml/Suwon_CH02_20200720_1930_MON_9m_NH_highway_TW5_sunny_FHD.xml\n",
      "./datasets/train/xml/Suwon_CH02_20200720_2000_MON_9m_NH_highway_TW5_sunny_FHD.xml\n",
      "./datasets/train/xml/Suwon_CH02_20200721_1500_TUE_9m_NH_highway_TW5_sunny_FHD.xml\n",
      "./datasets/train/xml/Suwon_CH02_20200721_1530_TUE_9m_NH_highway_TW5_sunny_FHD.xml\n",
      "./datasets/train/xml/Suwon_CH02_20200721_1600_TUE_9m_NH_highway_TW5_sunny_FHD.xml\n",
      "./datasets/train/xml/Suwon_CH02_20200721_1630_TUE_9m_NH_highway_TW5_sunny_FHD.xml\n",
      "./datasets/train/xml/Suwon_CH02_20200721_1800_TUE_9m_RH_highway_TW5_sunny_FHD.xml\n",
      "./datasets/train/xml/Suwon_CH02_20200721_1830_TUE_9m_RH_highway_TW5_sunny_FHD.xml\n",
      "./datasets/train/xml/Suwon_CH02_20200721_1930_TUE_9m_RH_highway_TW5_sunny_FHD.xml\n",
      "./datasets/train/xml/Suwon_CH02_20200721_2000_TUE_9m_NH_highway_TW5_sunny_FHD.xml\n",
      "./datasets/train/xml/Suwon_CH02_20200721_2100_TUE_9m_NH_highway_TW5_sunny_FHD.xml\n",
      "./datasets/train/xml/Suwon_CH02_20200721_2130_TUE_9m_NH_highway_TW5_sunny_FHD.xml\n",
      "./datasets/train/xml/Suwon_CH02_20200722_1400_WED_9m_NH_highway_TW5_rainy_FHD.xml\n",
      "./datasets/train/xml/Suwon_CH02_20200722_1430_WED_9m_NH_highway_TW5_rainy_FHD.xml\n",
      "./datasets/train/xml/Suwon_CH02_20200722_1530_WED_9m_NH_highway_TW5_rainy_FHD.xml\n",
      "./datasets/train/xml/Suwon_CH02_20200722_1600_WED_9m_RH_highway_TW5_rainy_FHD.xml\n",
      "./datasets/train/xml/Suwon_CH02_20200722_1630_WED_9m_RH_highway_TW5_rainy_FHD.xml\n",
      "./datasets/train/xml/Suwon_CH02_20200722_1700_WED_9m_RH_highway_TW5_sunny_FHD.xml\n",
      "./datasets/train/xml/Suwon_CH02_20200722_1800_WED_9m_RH_highway_TW5_sunny_FHD.xml\n",
      "./datasets/train/xml/Suwon_CH02_20200722_1830_WED_9m_RH_highway_TW5_sunny_FHD.xml\n",
      "./datasets/train/xml/Suwon_CH02_20200722_1900_WED_9m_RH_highway_TW5_sunny_FHD.xml\n",
      "./datasets/train/xml/Suwon_CH02_20200722_1930_WED_9m_NH_highway_TW5_sunny_FHD.xml\n",
      "./datasets/train/xml/Suwon_CH02_20201010_1807_SAT_9m_RH_highway_TW5_sunny_FHD.xml\n",
      "./datasets/train/xml/Suwon_CH02_20201010_1837_SAT_9m_RH_highway_TW5_sunny_FHD.xml\n",
      "./datasets/train/xml/Suwon_CH02_20201010_1908_SAT_9m_NH_highway_TW5_sunny_FHD.xml\n",
      "./datasets/train/xml/Suwon_CH02_20201011_1736_SUN_9m_RH_highway_TW5_sunny_FHD.xml\n",
      "./datasets/train/xml/Suwon_CH02_20201011_1836_SUN_9m_RH_highway_TW5_sunny_FHD.xml\n",
      "./datasets/train/xml/Suwon_CH02_20201011_1906_SUN_9m_RH_highway_TW5_sunny_FHD.xml\n",
      "./datasets/train/xml/Suwon_CH02_20201012_1657_MON_9m_RH_highway_TW5_sunny_FHD.xml\n",
      "./datasets/train/xml/Suwon_CH02_20201012_1728_MON_9m_RH_highway_TW5_sunny_FHD.xml\n",
      "./datasets/train/xml/Suwon_CH02_20201012_1828_MON_9m_RH_highway_TW5_sunny_FHD.xml\n",
      "./datasets/train/xml/Suwon_CH02_20201012_1858_MON_9m_RH_highway_TW5_sunny_FHD.xml\n",
      "./datasets/train/xml/Suwon_CH02_20201012_1928_MON_9m_RH_highway_TW5_sunny_FHD.xml\n",
      "./datasets/train/xml/Suwon_CH02_20201213_0732_SUN_9m_NH_highway_TW5_snow_FHD.xml\n",
      "./datasets/train/xml/Suwon_CH02_20201213_1033_SUN_9m_NH_highway_TW5_snow_FHD.xml\n",
      "./datasets/train/xml/Suwon_CH02_20201213_1204_SUN_9m_NH_highway_TW5_snow_FHD.xml\n",
      "./datasets/train/xml/Suwon_CH03_20200720_1700_MON_9m_NH_highway_OW5_sunny_FHD.xml\n",
      "./datasets/train/xml/Suwon_CH03_20200720_1730_MON_9m_NH_highway_OW5_sunny_FHD.xml\n",
      "./datasets/train/xml/Suwon_CH03_20200720_1830_MON_9m_NH_highway_OW5_sunny_FHD.xml\n",
      "./datasets/train/xml/Suwon_CH03_20200720_1900_MON_9m_NH_highway_OW5_sunny_FHD.xml\n",
      "./datasets/train/xml/Suwon_CH03_20200720_1930_MON_9m_NH_highway_OW5_sunny_FHD.xml\n",
      "./datasets/train/xml/Suwon_CH03_20200720_2000_MON_9m_NH_highway_OW5_sunny_FHD.xml\n",
      "./datasets/train/xml/Suwon_CH03_20200721_1430_TUE_9m_NH_highway_OW5_sunny_FHD.xml\n",
      "./datasets/train/xml/Suwon_CH03_20200721_1500_TUE_9m_NH_highway_OW5_sunny_FHD.xml\n",
      "./datasets/train/xml/Suwon_CH03_20200721_1530_TUE_9m_NH_highway_OW5_sunny_FHD.xml\n",
      "./datasets/train/xml/Suwon_CH03_20200721_1600_TUE_9m_NH_highway_OW5_sunny_FHD.xml\n",
      "./datasets/train/xml/Suwon_CH03_20200721_1700_TUE_9m_RH_highway_OW5_sunny_FHD.xml\n",
      "./datasets/train/xml/Suwon_CH03_20200721_1800_TUE_9m_RH_highway_OW5_sunny_FHD.xml\n",
      "./datasets/train/xml/Suwon_CH03_20200721_1830_TUE_9m_RH_highway_OW5_sunny_FHD.xml\n",
      "./datasets/train/xml/Suwon_CH03_20200721_1930_TUE_9m_NH_highway_OW5_sunny_FHD.xml\n",
      "./datasets/train/xml/Suwon_CH03_20200721_2030_TUE_9m_NH_highway_OW5_sunny_FHD.xml\n",
      "./datasets/train/xml/Suwon_CH03_20200721_2100_TUE_9m_NH_highway_OW5_sunny_FHD.xml\n",
      "./datasets/train/xml/Suwon_CH03_20200721_2130_TUE_9m_NH_highway_OW5_sunny_FHD.xml\n",
      "./datasets/train/xml/Suwon_CH03_20200722_1400_WED_9m_NH_highway_OW5_rainy_FHD.xml\n",
      "./datasets/train/xml/Suwon_CH03_20200722_1500_WED_9m_NH_highway_OW5_rainy_FHD.xml\n",
      "./datasets/train/xml/Suwon_CH03_20200722_1530_WED_9m_NH_highway_OW5_rainy_FHD.xml\n",
      "./datasets/train/xml/Suwon_CH03_20200722_1600_WED_9m_NH_highway_OW5_sunny_FHD.xml\n",
      "./datasets/train/xml/Suwon_CH03_20200722_1630_WED_9m_NH_highway_OW5_sunny_FHD.xml\n",
      "./datasets/train/xml/Suwon_CH03_20200722_1730_WED_9m_NH_highway_OW5_sunny_FHD.xml\n",
      "./datasets/train/xml/Suwon_CH03_20200722_1800_WED_9m_NH_highway_OW5_sunny_FHD.xml\n",
      "./datasets/train/xml/Suwon_CH03_20200722_1830_WED_9m_RH_highway_OW5_sunny_FHD.xml\n",
      "./datasets/train/xml/Suwon_CH03_20200722_1900_WED_9m_NH_highway_OW5_sunny_FHD.xml\n",
      "./datasets/train/xml/Suwon_CH03_20201010_1742_SAT_9m_RH_highway_OW5_sunny_FHD.xml\n",
      "./datasets/train/xml/Suwon_CH03_20201010_1812_SAT_9m_RH_highway_OW5_sunny_FHD.xml\n",
      "./datasets/train/xml/Suwon_CH03_20201010_1842_SAT_9m_NH_highway_OW5_sunny_FHD.xml\n",
      "./datasets/train/xml/Suwon_CH03_20201010_1913_SAT_9m_NH_highway_OW5_sunny_FHD.xml\n",
      "./datasets/train/xml/Suwon_CH03_20201011_1812_SUN_9m_RH_highway_OW5_sunny_FHD.xml\n",
      "./datasets/train/xml/Suwon_CH03_20201011_1843_SUN_9m_RH_highway_OW5_sunny_FHD.xml\n",
      "./datasets/train/xml/Suwon_CH03_20201011_1913_SUN_9m_RH_highway_OW5_sunny_FHD.xml\n",
      "./datasets/train/xml/Suwon_CH03_20201011_1943_SUN_9m_RH_highway_OW5_sunny_FHD.xml\n",
      "./datasets/train/xml/Suwon_CH03_20201012_1732_MON_9m_RH_highway_OW5_sunny_FHD.xml\n",
      "./datasets/train/xml/Suwon_CH03_20201012_1802_MON_9m_RH_highway_OW5_sunny_FHD.xml\n",
      "./datasets/train/xml/Suwon_CH03_20201012_1833_MON_9m_RH_highway_OW5_sunny_FHD.xml\n",
      "./datasets/train/xml/Suwon_CH03_20201012_1903_MON_9m_RH_highway_OW5_sunny_FHD.xml\n",
      "./datasets/train/xml/Suwon_CH03_20201213_0704_SUN_9m_NH_highway_OW5_snow_FHD.xml\n",
      "./datasets/train/xml/Suwon_CH03_20201213_0835_SUN_9m_NH_highway_OW5_snow_FHD.xml\n",
      "./datasets/train/xml/Suwon_CH03_20201213_0936_SUN_9m_NH_highway_OW5_snow_FHD.xml\n",
      "./datasets/train/xml/Suwon_CH03_20201213_1137_SUN_9m_NH_highway_OW5_snow_FHD.xml\n",
      "./datasets/train/xml/Suwon_CH04_20200720_1600_MON_9m_NH_highway_OW5_sunny_FHD.xml\n",
      "./datasets/train/xml/Suwon_CH04_20200720_1700_MON_9m_NH_highway_OW5_sunny_FHD.xml\n",
      "./datasets/train/xml/Suwon_CH04_20200720_1730_MON_9m_NH_highway_OW5_sunny_FHD.xml\n",
      "./datasets/train/xml/Suwon_CH04_20200720_1800_MON_9m_NH_highway_OW5_sunny_FHD.xml\n",
      "./datasets/train/xml/Suwon_CH04_20200720_1900_MON_9m_NH_highway_OW5_sunny_FHD.xml\n",
      "./datasets/train/xml/Suwon_CH04_20200720_1930_MON_9m_NH_highway_OW5_sunny_FHD.xml\n",
      "./datasets/train/xml/Suwon_CH04_20200720_2000_MON_9m_NH_highway_OW5_sunny_FHD.xml\n",
      "./datasets/train/xml/Suwon_CH04_20200720_2030_MON_9m_NH_highway_OW5_sunny_FHD.xml\n",
      "./datasets/train/xml/Suwon_CH04_20200721_1530_TUE_9m_NH_highway_OW5_sunny_FHD.xml\n",
      "./datasets/train/xml/Suwon_CH04_20200721_1630_TUE_9m_NH_highway_OW5_sunny_FHD.xml\n",
      "./datasets/train/xml/Suwon_CH04_20200721_1700_TUE_9m_RH_highway_OW5_sunny_FHD.xml\n",
      "./datasets/train/xml/Suwon_CH04_20200721_1800_TUE_9m_RH_highway_OW5_sunny_FHD.xml\n",
      "./datasets/train/xml/Suwon_CH04_20200721_1900_TUE_9m_RH_highway_OW5_sunny_FHD.xml\n",
      "./datasets/train/xml/Suwon_CH04_20200721_1930_TUE_9m_NH_highway_OW5_sunny_FHD.xml\n",
      "./datasets/train/xml/Suwon_CH04_20200721_2000_TUE_9m_NH_highway_OW5_sunny_FHD.xml\n",
      "./datasets/train/xml/Suwon_CH04_20200721_2030_TUE_9m_NH_highway_OW5_sunny_FHD.xml\n",
      "./datasets/train/xml/Suwon_CH04_20200722_1400_WED_9m_NH_highway_OW5_rainy_FHD.xml\n",
      "./datasets/train/xml/Suwon_CH04_20200722_1430_WED_9m_NH_highway_OW5_rainy_FHD.xml\n",
      "./datasets/train/xml/Suwon_CH04_20200722_1500_WED_9m_NH_highway_OW5_rainy_FHD.xml\n",
      "./datasets/train/xml/Suwon_CH04_20200722_1530_WED_9m_NH_highway_OW5_rainy_FHD.xml\n",
      "./datasets/train/xml/Suwon_CH04_20200722_1630_WED_9m_NH_highway_OW5_rainy_FHD.xml\n",
      "./datasets/train/xml/Suwon_CH04_20200722_1700_WED_9m_NH_highway_OW5_sunny_FHD.xml\n",
      "./datasets/train/xml/Suwon_CH04_20200722_1730_WED_9m_NH_highway_OW5_sunny_FHD.xml\n",
      "./datasets/train/xml/Suwon_CH04_20200722_1800_WED_9m_NH_highway_OW5_sunny_FHD.xml\n",
      "./datasets/train/xml/Suwon_CH04_20200722_1900_WED_9m_NH_highway_OW5_sunny_FHD.xml\n",
      "./datasets/train/xml/Suwon_CH04_20200722_1930_WED_9m_NH_highway_OW5_sunny_FHD.xml\n",
      "./datasets/train/xml/Suwon_CH04_20201010_1717_SAT_9m_NH_highway_OW5_sunny_FHD.xml\n",
      "./datasets/train/xml/Suwon_CH04_20201010_1748_SAT_9m_RH_highway_OW5_sunny_FHD.xml\n",
      "./datasets/train/xml/Suwon_CH04_20201010_1849_SAT_9m_NH_highway_OW5_sunny_FHD.xml\n",
      "./datasets/train/xml/Suwon_CH04_20201011_1717_SUN_9m_NH_highway_OW5_sunny_FHD.xml\n",
      "./datasets/train/xml/Suwon_CH04_20201011_1748_SUN_9m_RH_highway_OW5_sunny_FHD.xml\n",
      "./datasets/train/xml/Suwon_CH04_20201011_1818_SUN_9m_RH_highway_OW5_sunny_FHD.xml\n",
      "./datasets/train/xml/Suwon_CH04_20201011_1919_SUN_9m_RH_highway_OW5_sunny_FHD.xml\n",
      "./datasets/train/xml/Suwon_CH04_20201012_1706_MON_9m_RH_highway_OW5_sunny_FHD.xml\n",
      "./datasets/train/xml/Suwon_CH04_20201012_1737_MON_9m_RH_highway_OW5_sunny_FHD.xml\n",
      "./datasets/train/xml/Suwon_CH04_20201012_1807_MON_9m_RH_highway_OW5_sunny_FHD.xml\n",
      "./datasets/train/xml/Suwon_CH04_20201012_1908_MON_9m_RH_highway_OW5_sunny_FHD.xml\n",
      "./datasets/train/xml/Suwon_CH04_20201012_1939_MON_9m_RH_highway_OW5_sunny_FHD.xml\n",
      "./datasets/train/xml/Suwon_CH04_20201213_0737_SUN_9m_NH_highway_OW5_snow_FHD.xml\n",
      "./datasets/train/xml/Suwon_CH04_20201213_0838_SUN_9m_NH_highway_OW5_snow_FHD.xml\n",
      "./datasets/train/xml/Suwon_CH04_20201213_1142_SUN_9m_NH_highway_OW5_snow_FHD.xml\n"
     ]
    }
   ],
   "source": [
    "save_path = './datasets/train/labels/'\n",
    "\n",
    "for _ in file_name:\n",
    "    xml_path = './datasets/train/xml/' + _ + '.xml'\n",
    "    print(xml_path)\n",
    "    yolov8(xml_path, save_path)"
   ]
  },
  {
   "cell_type": "markdown",
   "id": "1af3428d-9b2c-4d7d-9d63-a8a96b919342",
   "metadata": {},
   "source": [
    "# 검증"
   ]
  },
  {
   "cell_type": "code",
   "execution_count": 13,
   "id": "724557e4-626a-461e-ac23-d5b0be0c0b73",
   "metadata": {
    "tags": []
   },
   "outputs": [
    {
     "data": {
      "text/plain": [
       "24104"
      ]
     },
     "execution_count": 13,
     "metadata": {},
     "output_type": "execute_result"
    }
   ],
   "source": [
    "# 텍스트 파일\n",
    "len(os.listdir('./datasets/train/labels/'))"
   ]
  },
  {
   "cell_type": "code",
   "execution_count": 15,
   "id": "54dd2c85-4680-47b0-9763-055a0f02d4c9",
   "metadata": {
    "tags": []
   },
   "outputs": [
    {
     "data": {
      "text/plain": [
       "24101"
      ]
     },
     "execution_count": 15,
     "metadata": {},
     "output_type": "execute_result"
    }
   ],
   "source": [
    "# 이미지 파일\n",
    "len(os.listdir('./datasets/train/images/'))"
   ]
  }
 ],
 "metadata": {
  "environment": {
   "kernel": "python3",
   "name": ".m113",
   "type": "gcloud",
   "uri": "gcr.io/deeplearning-platform-release/:m113"
  },
  "kernelspec": {
   "display_name": "Python 3",
   "language": "python",
   "name": "python3"
  },
  "language_info": {
   "codemirror_mode": {
    "name": "ipython",
    "version": 3
   },
   "file_extension": ".py",
   "mimetype": "text/x-python",
   "name": "python",
   "nbconvert_exporter": "python",
   "pygments_lexer": "ipython3",
   "version": "3.10.13"
  }
 },
 "nbformat": 4,
 "nbformat_minor": 5
}
