{
 "cells": [
  {
   "cell_type": "markdown",
   "id": "83ce2a44-13f2-436c-93e8-d0fa078fc995",
   "metadata": {},
   "source": [
    "# 디렉토리 설정"
   ]
  },
  {
   "cell_type": "code",
   "execution_count": 1,
   "id": "8fb710e4-1ec7-4b81-9d0b-fa5afc682b4e",
   "metadata": {
    "tags": []
   },
   "outputs": [],
   "source": [
    "import os, shutil"
   ]
  },
  {
   "cell_type": "code",
   "execution_count": 2,
   "id": "a769e03e-a01e-4ebc-81a0-c3414620853d",
   "metadata": {
    "tags": []
   },
   "outputs": [],
   "source": [
    "def make_dir(path):\n",
    "    if os.path.exists(path) == True:\n",
    "        shutil.rmtree(path)\n",
    "        os.mkdir(path)\n",
    "        print('기존삭제 : ', path)\n",
    "    elif os.path.exists(path) == False:\n",
    "        os.mkdir(path)\n",
    "        print('생성 : ', path)"
   ]
  },
  {
   "cell_type": "code",
   "execution_count": 3,
   "id": "8d2c5b96-9407-4a25-8a47-403742897936",
   "metadata": {
    "tags": []
   },
   "outputs": [],
   "source": [
    "one_dir = './dataset'\n",
    "\n",
    "two_dir = ['./dataset/train/', './dataset/valid/', './dataset/test/']\n",
    "\n",
    "img_dir = ['./dataset/train/images/', './dataset/valid/images/', './dataset/test/images/', './dataset/train/image/']\n",
    "            # 훈련시 이미지                 테스트 이미지               현재 사용 안함              알집 풀고난뒤 이미지\n",
    "xml_dir = ['./dataset/train/xml/', './dataset/valid/xml/', './dataset/test/xml/']\n",
    "\n",
    "txt_dir = ['./dataset/train/labels/', './dataset/valid/labels/', './dataset/test/labels/']"
   ]
  },
  {
   "cell_type": "code",
   "execution_count": 11,
   "id": "db91b0b0-70dd-4f04-8bd5-b431ecf29e4d",
   "metadata": {
    "tags": []
   },
   "outputs": [
    {
     "name": "stdout",
     "output_type": "stream",
     "text": [
      "기존삭제 :  ./dataset\n"
     ]
    }
   ],
   "source": [
    "make_dir(one_dir)"
   ]
  },
  {
   "cell_type": "code",
   "execution_count": 12,
   "id": "1640793e-5563-4914-ba0b-0b22ae4bf77a",
   "metadata": {
    "tags": []
   },
   "outputs": [
    {
     "name": "stdout",
     "output_type": "stream",
     "text": [
      "생성 :  ./dataset/train/\n"
     ]
    }
   ],
   "source": [
    "make_dir(two_dir[0])"
   ]
  },
  {
   "cell_type": "code",
   "execution_count": 13,
   "id": "4aa7060f-b0b4-4972-93a3-972bfb59dd98",
   "metadata": {
    "tags": []
   },
   "outputs": [
    {
     "name": "stdout",
     "output_type": "stream",
     "text": [
      "생성 :  ./dataset/valid/\n"
     ]
    }
   ],
   "source": [
    "make_dir(two_dir[1])"
   ]
  },
  {
   "cell_type": "code",
   "execution_count": 14,
   "id": "36829313-4f66-4201-9e62-3384208cf7a1",
   "metadata": {
    "tags": []
   },
   "outputs": [
    {
     "name": "stdout",
     "output_type": "stream",
     "text": [
      "생성 :  ./dataset/test/\n"
     ]
    }
   ],
   "source": [
    "make_dir(two_dir[2])"
   ]
  },
  {
   "cell_type": "code",
   "execution_count": 13,
   "id": "ba214273-54e7-41ed-ac40-79aedbe4a92c",
   "metadata": {
    "tags": []
   },
   "outputs": [
    {
     "name": "stdout",
     "output_type": "stream",
     "text": [
      "기존삭제 :  ./dataset/train/images/\n"
     ]
    }
   ],
   "source": [
    "make_dir(img_dir[0])"
   ]
  },
  {
   "cell_type": "code",
   "execution_count": null,
   "metadata": {},
   "outputs": [],
   "source": [
    "make_dir(img_dir[0])"
   ]
  },
  {
   "cell_type": "code",
   "execution_count": 4,
   "id": "77aaab52-08ec-492d-9560-21235c3fcdd2",
   "metadata": {
    "tags": []
   },
   "outputs": [
    {
     "name": "stdout",
     "output_type": "stream",
     "text": [
      "기존삭제 :  ./dataset/valid/images/\n"
     ]
    }
   ],
   "source": [
    "make_dir(img_dir[1])"
   ]
  },
  {
   "cell_type": "code",
   "execution_count": 17,
   "id": "be1649eb-872f-450c-b00e-000a182b275e",
   "metadata": {
    "tags": []
   },
   "outputs": [
    {
     "name": "stdout",
     "output_type": "stream",
     "text": [
      "생성 :  ./dataset/test/images/\n"
     ]
    }
   ],
   "source": [
    "make_dir(img_dir[2])"
   ]
  },
  {
   "cell_type": "code",
   "execution_count": 18,
   "id": "4fa1f742-51f1-478a-84c6-72e02bdc1643",
   "metadata": {
    "tags": []
   },
   "outputs": [
    {
     "name": "stdout",
     "output_type": "stream",
     "text": [
      "생성 :  ./dataset/train/xml/\n"
     ]
    }
   ],
   "source": [
    "make_dir(xml_dir[0])"
   ]
  },
  {
   "cell_type": "code",
   "execution_count": 5,
   "id": "2ed83045-86e3-4860-a795-9f66c4d972a4",
   "metadata": {
    "tags": []
   },
   "outputs": [
    {
     "name": "stdout",
     "output_type": "stream",
     "text": [
      "기존삭제 :  ./dataset/valid/xml/\n"
     ]
    }
   ],
   "source": [
    "make_dir(xml_dir[1])"
   ]
  },
  {
   "cell_type": "code",
   "execution_count": 20,
   "id": "563c12f5-cf8f-47eb-942d-0a01e21389e8",
   "metadata": {
    "tags": []
   },
   "outputs": [
    {
     "name": "stdout",
     "output_type": "stream",
     "text": [
      "생성 :  ./dataset/test/xml/\n"
     ]
    }
   ],
   "source": [
    "make_dir(xml_dir[2])"
   ]
  },
  {
   "cell_type": "code",
   "execution_count": 4,
   "id": "5997090d-f1c7-47f0-a467-7baa71968a3c",
   "metadata": {
    "tags": []
   },
   "outputs": [
    {
     "name": "stdout",
     "output_type": "stream",
     "text": [
      "기존삭제 :  ./dataset/train/labels/\n"
     ]
    }
   ],
   "source": [
    "make_dir(txt_dir[0])"
   ]
  },
  {
   "cell_type": "code",
   "execution_count": 9,
   "id": "951c4c80-b2fd-40f7-b28d-798048eabc3e",
   "metadata": {
    "tags": []
   },
   "outputs": [
    {
     "name": "stdout",
     "output_type": "stream",
     "text": [
      "기존삭제 :  ./dataset/valid/labels/\n"
     ]
    }
   ],
   "source": [
    "make_dir(txt_dir[1])"
   ]
  },
  {
   "cell_type": "code",
   "execution_count": 23,
   "id": "560389ca-d944-4eb0-a445-efecb4004c41",
   "metadata": {
    "tags": []
   },
   "outputs": [
    {
     "name": "stdout",
     "output_type": "stream",
     "text": [
      "생성 :  ./dataset/test/labels/\n"
     ]
    }
   ],
   "source": [
    "make_dir(txt_dir[2])"
   ]
  },
  {
   "cell_type": "code",
   "execution_count": null,
   "id": "4678f654-525a-42d0-a917-81ef381525af",
   "metadata": {},
   "outputs": [],
   "source": []
  },
  {
   "cell_type": "code",
   "execution_count": null,
   "id": "c8774378-0739-4c19-9e83-36ca529aa723",
   "metadata": {},
   "outputs": [],
   "source": []
  },
  {
   "cell_type": "code",
   "execution_count": null,
   "id": "b002d4aa-0b50-4cde-9d13-f97d7cb9c322",
   "metadata": {},
   "outputs": [],
   "source": []
  }
 ],
 "metadata": {
  "environment": {
   "kernel": "python3",
   "name": ".m113",
   "type": "gcloud",
   "uri": "gcr.io/deeplearning-platform-release/:m113"
  },
  "kernelspec": {
   "display_name": "Python 3",
   "language": "python",
   "name": "python3"
  },
  "language_info": {
   "codemirror_mode": {
    "name": "ipython",
    "version": 3
   },
   "file_extension": ".py",
   "mimetype": "text/x-python",
   "name": "python",
   "nbconvert_exporter": "python",
   "pygments_lexer": "ipython3",
   "version": "3.10.13"
  }
 },
 "nbformat": 4,
 "nbformat_minor": 5
}
