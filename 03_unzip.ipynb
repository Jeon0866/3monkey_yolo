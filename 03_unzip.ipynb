{
 "cells": [
  {
   "cell_type": "markdown",
   "id": "b87bb4a5-a3d7-4616-b414-a2480d2d0928",
   "metadata": {},
   "source": [
    "# 알집 풀기\n",
    "- 주석된거 해제 하고 실행 가능 단점 가끔 주피터랩 터짐\n",
    "- 프린트 문으로 출력된거 터미널 창에서 실행"
   ]
  },
  {
   "cell_type": "code",
   "execution_count": 1,
   "id": "25266dea-3ddb-4d53-b078-d728d1225577",
   "metadata": {
    "tags": []
   },
   "outputs": [],
   "source": [
    "# 저장 경로 지정\n",
    "train_save_img_path = './dataset/train/image/'\n",
    "train_save_xml_path = './dataset/train/xml/'\n",
    "\n",
    "val_save_img_path = './dataset/valid/images/'\n",
    "val_save_xml_path = './dataset/valid/xml/'"
   ]
  },
  {
   "cell_type": "code",
   "execution_count": 2,
   "id": "eb4a8f0c-f88b-478c-93aa-a98cf97101c3",
   "metadata": {},
   "outputs": [],
   "source": [
    "# 파일zip 위치\n",
    "train_zip_img_path = ['./Train원천_1-1수도권영동선.zip', './Train원천_1-2수도권영동선.zip', './Train원천_1-3수도권영동선.zip']\n",
    "train_zip_label_path = './Train라벨_1.수도권영동선.zip'\n",
    "\n",
    "val_zip_img_paht = './Val원천_1수도권영동선.zip'\n",
    "val_zip_label_path = './Val라벨_1수도권영동선.zip'"
   ]
  },
  {
   "cell_type": "markdown",
   "id": "bd89d00e-8869-44bd-8659-f1809c048053",
   "metadata": {},
   "source": [
    "### val 데이터"
   ]
  },
  {
   "cell_type": "code",
   "execution_count": 3,
   "id": "5c60b528-337a-4f0a-9d23-63589681cc53",
   "metadata": {
    "tags": []
   },
   "outputs": [
    {
     "name": "stdout",
     "output_type": "stream",
     "text": [
      "unzip ./[Val라벨]1.수도권영동선.zip -d ./dataset/valid/xml/\n"
     ]
    }
   ],
   "source": [
    "# [Val라벨]1.수도권영동선.zip\n",
    "# !unzip {val_zip_label_path} -d {val_save_xml_path}\n",
    "print(f'unzip {val_zip_label_path} -d {val_save_xml_path}')"
   ]
  },
  {
   "cell_type": "code",
   "execution_count": 4,
   "id": "18f91435-cdb4-46ea-b0b5-44180ccb36a5",
   "metadata": {},
   "outputs": [
    {
     "name": "stdout",
     "output_type": "stream",
     "text": [
      "unzip ./[Val원천]1.수도권영동선.zip -d ./dataset/valid/images/\n"
     ]
    }
   ],
   "source": [
    "# [Val원천]1.수도권영동선.zip \n",
    "# !unzip {val_zip_img_paht} -d {val_save_img_path}\n",
    "print(f'unzip {val_zip_img_paht} -d {val_save_img_path}')"
   ]
  },
  {
   "cell_type": "markdown",
   "id": "06f49351-d77e-453e-8123-24243ebbf6e1",
   "metadata": {},
   "source": [
    "### train 데이터"
   ]
  },
  {
   "cell_type": "code",
   "execution_count": 6,
   "id": "58ca784b-f2f5-4c9b-85c9-740c02a9111e",
   "metadata": {},
   "outputs": [
    {
     "name": "stdout",
     "output_type": "stream",
     "text": [
      "unzip ./[Train라벨]1.수도권영동선.zip -d ./dataset/train/xml/\n"
     ]
    }
   ],
   "source": [
    "# [Train라벨]1.수도권영동선.zip\n",
    "# !unzip {train_zip_label_path} -d {train_save_xml_path}\n",
    "print(f'unzip {train_zip_label_path} -d {train_save_xml_path}')"
   ]
  },
  {
   "cell_type": "code",
   "execution_count": 8,
   "id": "306169f7-a476-442a-a2ac-cc0491408e98",
   "metadata": {},
   "outputs": [
    {
     "name": "stdout",
     "output_type": "stream",
     "text": [
      "unzip ./[Train원천]1-3.수도권영동선.zip -d ./dataset/train/image/\n"
     ]
    }
   ],
   "source": [
    "# [Train원천]1-3.수도권영동선.zip\n",
    "# !unzip {train_zip_img_path[2]} -d {train_save_img_path}\n",
    "print(f'unzip {train_zip_img_path[2]} -d {train_save_img_path}')"
   ]
  },
  {
   "cell_type": "code",
   "execution_count": 9,
   "id": "f5869438-f24a-4992-aa85-f03e0ca01667",
   "metadata": {},
   "outputs": [
    {
     "name": "stdout",
     "output_type": "stream",
     "text": [
      "unzip ./[Train원천]1-2.수도권영동선.zip -d ./dataset/train/image/\n"
     ]
    }
   ],
   "source": [
    "# [Train원천]1-2.수도권영동선.zip\n",
    "# !unzip {train_zip_img_path[1]} -d {train_save_img_path}\n",
    "print(f'unzip {train_zip_img_path[1]} -d {train_save_img_path}')"
   ]
  },
  {
   "cell_type": "code",
   "execution_count": 10,
   "id": "c73fcdad-b044-4186-8f67-07ff090bab12",
   "metadata": {
    "tags": []
   },
   "outputs": [
    {
     "name": "stdout",
     "output_type": "stream",
     "text": [
      "unzip ./[Train원천]1-1.수도권영동선.zip -d ./dataset/train/image/\n"
     ]
    }
   ],
   "source": [
    "# [Train원천]1-1.수도권영동선.zip\n",
    "# !unzip {train_zip_img_path[0]} -d {train_save_img_path}\n",
    "print(f'unzip {train_zip_img_path[0]} -d {train_save_img_path}')"
   ]
  }
 ],
 "metadata": {
  "environment": {
   "kernel": "python3",
   "name": ".m113",
   "type": "gcloud",
   "uri": "gcr.io/deeplearning-platform-release/:m113"
  },
  "kernelspec": {
   "display_name": "Python 3",
   "language": "python",
   "name": "python3"
  },
  "language_info": {
   "codemirror_mode": {
    "name": "ipython",
    "version": 3
   },
   "file_extension": ".py",
   "mimetype": "text/x-python",
   "name": "python",
   "nbconvert_exporter": "python",
   "pygments_lexer": "ipython3",
   "version": "3.8.18"
  }
 },
 "nbformat": 4,
 "nbformat_minor": 5
}
