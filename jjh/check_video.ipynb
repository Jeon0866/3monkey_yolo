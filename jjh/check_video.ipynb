{
 "cells": [
  {
   "cell_type": "markdown",
   "metadata": {},
   "source": [
    "## 주피터 노트북에서 확인하기"
   ]
  },
  {
   "cell_type": "code",
   "execution_count": null,
   "metadata": {},
   "outputs": [],
   "source": [
    "from ultralytics import YOLO\n",
    "import cv2\n",
    "\n",
    "\n",
    "modelPath = 'D:/jeon/git_repo/3monkey_yolo/jjh/train_test/dataset/yolov8m.pt'\n",
    "\n",
    "videoPath = 'D:/jeon/git_repo/3monkey_yolo/jjh/test_dataset/Video_20231127_162846_001.mp4'\n",
    "videoPath_ = 'D:/jeon/git_repo/3monkey_yolo/jjh/test_dataset/IMG_0835.mp4'\n",
    "\n",
    "model = YOLO(modelPath)\n",
    "cap = cv2.VideoCapture(videoPath)\n",
    "\n",
    "while cap.isOpened() :\n",
    "    ret, frame = cap.read()\n",
    "\n",
    "    if ret :\n",
    "        results = model(frame)\n",
    "        cv2.imshow(\"Results\", results[0].plot())\n",
    "\n",
    "    if cv2.waitKey(1) & 0xFF == ord('q'):\n",
    "        break\n",
    "\n",
    "cv2.destroyAllWindows()\n",
    "cap.release()"
   ]
  },
  {
   "cell_type": "markdown",
   "metadata": {},
   "source": [
    "## Anaconda prompt에서 CLI로 확인하기"
   ]
  },
  {
   "cell_type": "code",
   "execution_count": 3,
   "metadata": {},
   "outputs": [
    {
     "data": {
      "text/plain": [
       "'\\nyolo task=detect mode=predict show=True model={model} source={source} imgsz=640 save=True name=\\'highway_test\\'\\n\\nyolo task=detect mode=predict show=True model=\\'D:/jeon/git_repo/3monkey_yolo/jjh/train_test/dataset/runs/detect/train6/weights/best.pt\\' source=\\'D:/jeon/git_repo/3monkey_yolo/jjh/test_dataset/Video_20231127_162846_001.mp4\\' imgsz=640 save=True name=\\'highway_test\\'\\n\\nyolo task=detect mode=predict show=True model=\\'D:/jeon/git_repo/3monkey_yolo/jjh/train_test/dataset/runs/detect/train6/weights/best.pt\\' source=\\'D:/jeon/git_repo/3monkey_yolo/jjh/test_dataset/Video_20231127_162846_001.mp4\\' imgsz=320 save=True name=\\'highway_test\\'\\n\\n\"D:/jeon/git_repo/3monkey_yolo/jjh/train_test/dataset/runs/detect/train6/weights/best.pt\"\\n\"D:\\\\jeon\\\\git_repo\\x03monkey_yolo\\\\jjh\\train_test\\\\dataset\\runs\\\\detect\\train6\\\\weights\\x08est.pt\"\\n\\n\"D:/jeon/git_repo/3monkey_yolo/jjh/test_dataset/IMG_0835.MOV\"\\n\"D:\\\\jeon\\\\git_repo\\x03monkey_yolo\\\\jjh\\test_dataset\\\\IMG_0835.MOV\"\\n'"
      ]
     },
     "execution_count": 3,
     "metadata": {},
     "output_type": "execute_result"
    }
   ],
   "source": [
    "'''\n",
    "yolo task=detect mode=predict show=True model={model} source={source} imgsz=640 save=True name='highway_test'\n",
    "\n",
    "yolo task=detect mode=predict show=True model='D:/jeon/git_repo/3monkey_yolo/jjh/train_test/dataset/runs/detect/train6/weights/best.pt' source='D:/jeon/git_repo/3monkey_yolo/jjh/test_dataset/Video_20231127_162846_001.mp4' imgsz=640 save=True name='highway_test'\n",
    "\n",
    "yolo task=detect mode=predict show=True model='D:/jeon/git_repo/3monkey_yolo/jjh/train_test/dataset/runs/detect/train6/weights/best.pt' source='D:/jeon/git_repo/3monkey_yolo/jjh/test_dataset/Video_20231127_162846_001.mp4' imgsz=320 save=True name='highway_test'\n",
    "\n",
    "\"D:/jeon/git_repo/3monkey_yolo/jjh/train_test/dataset/runs/detect/train6/weights/best.pt\"\n",
    "\"D:\\jeon\\git_repo\\3monkey_yolo\\jjh\\train_test\\dataset\\runs\\detect\\train6\\weights\\best.pt\"\n",
    "\n",
    "\"D:/jeon/git_repo/3monkey_yolo/jjh/test_dataset/IMG_0835.MOV\"\n",
    "\"D:\\jeon\\git_repo\\3monkey_yolo\\jjh\\test_dataset\\IMG_0835.MOV\"\n",
    "'''"
   ]
  }
 ],
 "metadata": {
  "kernelspec": {
   "display_name": "yolov8",
   "language": "python",
   "name": "python3"
  },
  "language_info": {
   "codemirror_mode": {
    "name": "ipython",
    "version": 3
   },
   "file_extension": ".py",
   "mimetype": "text/x-python",
   "name": "python",
   "nbconvert_exporter": "python",
   "pygments_lexer": "ipython3",
   "version": "3.8.18"
  }
 },
 "nbformat": 4,
 "nbformat_minor": 2
}
