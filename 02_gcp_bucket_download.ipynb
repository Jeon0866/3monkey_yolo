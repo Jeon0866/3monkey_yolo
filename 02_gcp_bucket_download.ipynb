{
 "cells": [
  {
   "cell_type": "code",
   "execution_count": 1,
   "id": "7c8832d9-941b-4aa8-a5c0-3782d0d1f458",
   "metadata": {
    "tags": []
   },
   "outputs": [],
   "source": [
    "import os\n",
    "from google.cloud import storage"
   ]
  },
  {
   "cell_type": "code",
   "execution_count": 2,
   "id": "a9fee2eb-4663-439d-b9c1-8c6852dbcc29",
   "metadata": {
    "tags": []
   },
   "outputs": [
    {
     "data": {
      "text/plain": [
       "'/home/jupyter'"
      ]
     },
     "execution_count": 2,
     "metadata": {},
     "output_type": "execute_result"
    }
   ],
   "source": [
    "os.getcwd()"
   ]
  },
  {
   "cell_type": "code",
   "execution_count": 3,
   "id": "d5349b9c-8509-4cf9-81cc-94f6e9605ee3",
   "metadata": {
    "tags": []
   },
   "outputs": [],
   "source": [
    "# 개인 key\n",
    "KEY = './very_import/sessac-project-05-0f14be4083df.json'"
   ]
  },
  {
   "cell_type": "code",
   "execution_count": 4,
   "id": "317f5be2-b67b-40b3-bab0-c129df423fa7",
   "metadata": {
    "tags": []
   },
   "outputs": [],
   "source": [
    "# 환경 변수 설정\n",
    "os.environ[\"GOOGLE_APPLICATION_CREDENTIALS\"] = KEY"
   ]
  },
  {
   "cell_type": "code",
   "execution_count": 5,
   "id": "7d13a2cc-c3ea-4164-bddf-ea0414c7bf27",
   "metadata": {
    "tags": []
   },
   "outputs": [
    {
     "name": "stdout",
     "output_type": "stream",
     "text": [
      "[<Bucket: sessac-project-05-bucket>, <Bucket: sessac-project-05-bucket-01>]\n"
     ]
    }
   ],
   "source": [
    "# gcp 접속 및 버킷 확인\n",
    "storage_client = storage.Client()\n",
    "buckets = list(storage_client.list_buckets())\n",
    "\n",
    "print(buckets)"
   ]
  },
  {
   "cell_type": "code",
   "execution_count": 6,
   "id": "2e95d1b5-f10e-4cd9-bbd4-e1c84398f2ee",
   "metadata": {
    "tags": []
   },
   "outputs": [],
   "source": [
    "train_img = ['Train원천_1-1수도권영동선.zip', 'Train원천_1-2수도권영동선.zip', 'Train원천_1-3수도권영동선.zip']\n",
    "val_img = 'Val원천_1수도권영동선.zip'\n",
    "\n",
    "train_label = 'Train라벨_1.수도권영동선.zip'\n",
    "val_label = 'Val라벨_1수도권영동선.zip'"
   ]
  },
  {
   "cell_type": "markdown",
   "metadata": {},
   "source": [
    "밑에 코드는 위에 변수를 직접 하나씩 넣으면서 확인"
   ]
  },
  {
   "cell_type": "code",
   "execution_count": 7,
   "id": "83d2dc99-c2b5-40a9-a4fb-c00abf943c33",
   "metadata": {
    "tags": []
   },
   "outputs": [
    {
     "name": "stdout",
     "output_type": "stream",
     "text": [
      "다운 완료\n"
     ]
    }
   ],
   "source": [
    "from google.cloud import storage\n",
    "\n",
    "bucket_name = 'sessac-project-05-bucket-01'    # 서비스 계정 생성한 bucket 이름 입력\n",
    "source_blob_name =  val_img   # GCP에 저장되어 있는 파일 명\n",
    "destination_file_name = './'+ val_img    # 다운받을 파일을 저장할 경로(\"local/path/to/file\")\n",
    "\n",
    "storage_client = storage.Client()\n",
    "bucket = storage_client.bucket(bucket_name)\n",
    "blob = bucket.blob(source_blob_name)\n",
    "\n",
    "blob.download_to_filename(destination_file_name)\n",
    "print('다운 완료')"
   ]
  }
 ],
 "metadata": {
  "environment": {
   "kernel": "python3",
   "name": ".m113",
   "type": "gcloud",
   "uri": "gcr.io/deeplearning-platform-release/:m113"
  },
  "kernelspec": {
   "display_name": "Python 3",
   "language": "python",
   "name": "python3"
  },
  "language_info": {
   "codemirror_mode": {
    "name": "ipython",
    "version": 3
   },
   "file_extension": ".py",
   "mimetype": "text/x-python",
   "name": "python",
   "nbconvert_exporter": "python",
   "pygments_lexer": "ipython3",
   "version": "3.10.13"
  }
 },
 "nbformat": 4,
 "nbformat_minor": 5
}
